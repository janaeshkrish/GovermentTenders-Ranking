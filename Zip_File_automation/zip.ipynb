{
 "cells": [
  {
   "cell_type": "code",
   "execution_count": 15,
   "metadata": {},
   "outputs": [],
   "source": [
    "from ftplib import FTP\n",
    "from datetime import datetime\n",
    "from datetime import timedelta\n",
    "import os \n",
    "from zipfile import ZipFile"
   ]
  },
  {
   "cell_type": "code",
   "execution_count": 16,
   "metadata": {},
   "outputs": [
    {
     "name": "stdout",
     "output_type": "stream",
     "text": [
      "12-01-20  04:02AM                 7222 01122020.zip\n",
      "12-02-20  03:58AM                 7222 02122020.zip\n",
      "12-03-20  03:58AM                 7222 03122020.zip\n",
      "12-04-20  03:54AM                 7222 04122020.zip\n",
      "12-05-20  10:33AM                 7222 05122020.zip\n",
      "12-08-20  03:40AM                 7222 08122020.zip\n",
      "12-10-20  09:50AM                 7322 10122020.zip\n",
      "12-11-20  03:54AM                 7322 11122020.zip\n",
      "12-12-20  04:17AM                 7322 12122020.zip\n",
      "12-16-20  01:13PM                  752 16122020.zip\n",
      "12-17-20  11:04AM             13299288 17122020.zip\n",
      "12-22-20  01:29PM            751674880 22122020.zip\n",
      "12-23-20  11:10AM            655277840 23122020.zip\n",
      "None\n"
     ]
    }
   ],
   "source": [
    "#To get file from the server\n",
    "ftp_get = FTP('216.10.240.149')\n",
    "\n",
    "ftp_get.login(user='tender247', passwd = 'Tender247@123$%')\n",
    "\n",
    "#printing list of files in the FTP\n",
    "list_of_dir = ftp_get.dir()\n",
    "\n",
    "print(list_of_dir)"
   ]
  },
  {
   "cell_type": "code",
   "execution_count": 17,
   "metadata": {},
   "outputs": [
    {
     "data": {
      "text/plain": [
       "'230 User logged in.'"
      ]
     },
     "execution_count": 17,
     "metadata": {},
     "output_type": "execute_result"
    }
   ],
   "source": [
    "#To send the file to FTP server\n",
    "ftp_send = FTP('216.10.240.149')\n",
    "\n",
    "ftp_send.login(user='meena', passwd = 'Meena@123$%')"
   ]
  },
  {
   "cell_type": "code",
   "execution_count": 18,
   "metadata": {},
   "outputs": [],
   "source": [
    "#date month year\n",
    "#01122020.zip\n",
    "#%d%m%Y\n",
    "\n",
    "\n",
    "date = datetime.now()\n",
    "\n",
    "#date = date+timedelta(10)\n",
    "\n",
    "today = date.strftime('%d%m%Y')\n",
    "\n",
    "day = date.day\n",
    "\n",
    "\n",
    "year = date.year\n",
    "\n",
    "month = date.month\n",
    "\n"
   ]
  },
  {
   "cell_type": "code",
   "execution_count": null,
   "metadata": {},
   "outputs": [],
   "source": [
    "#To grab file from FTp server and store it in current directory\n",
    "def grabfile():\n",
    "    \n",
    "    filename = '{0}.zip'.format(today)\n",
    "    \n",
    "    localfile = open(filename, 'wb')\n",
    "    \n",
    "    ftp_get.retrbinary('RETR ' + filename, localfile.write, 1024)\n",
    "\n",
    "    ftp_get.quit()\n",
    "    \n",
    "    localfile.close()\n",
    "    \n",
    "grabfile()\n",
    "    "
   ]
  },
  {
   "cell_type": "code",
   "execution_count": null,
   "metadata": {},
   "outputs": [],
   "source": []
  },
  {
   "cell_type": "code",
   "execution_count": null,
   "metadata": {},
   "outputs": [],
   "source": [
    "#Zip file extraction \n",
    "def extraction():\n",
    "    \n",
    "    # Extracting the path for zip files and pdf files\n",
    "    directory = os.getcwd()\n",
    "    \n",
    "    for filename in os.listdir(directory):\n",
    "        \n",
    "        if filename.endswith('.zip'):\n",
    "            \n",
    "            #print(os.path.join(directory, filename))\n",
    "\n",
    "            path = os.path.join(directory, filename)\n",
    "            \n",
    "            #print(path)\n",
    "            \n",
    "            with ZipFile(path,'r') as zipObj:\n",
    "                \n",
    "                \n",
    "                \n",
    "                # Extract all the contents of zip file in current directory\n",
    "                zipObj.extractall()\n",
    "                \n",
    "        \n",
    "                \n",
    "                \n",
    "        else:\n",
    "\n",
    "            continue\n",
    "            \n",
    "            \n",
    "    #Remove file from dir\n",
    "    #os.remove(path)\n",
    "            \n",
    "extraction()"
   ]
  },
  {
   "cell_type": "code",
   "execution_count": null,
   "metadata": {},
   "outputs": [],
   "source": [
    "path = \"{}\\{}\\{}\".format(year,month,day)\n",
    "path"
   ]
  },
  {
   "cell_type": "code",
   "execution_count": null,
   "metadata": {},
   "outputs": [],
   "source": [
    "dirs = os.getcwd()\n",
    "dirs"
   ]
  },
  {
   "cell_type": "code",
   "execution_count": null,
   "metadata": {},
   "outputs": [],
   "source": [
    "full_path = dirs+ \"\\\\\"+path\n",
    "full_path"
   ]
  },
  {
   "cell_type": "code",
   "execution_count": null,
   "metadata": {},
   "outputs": [],
   "source": [
    "for root, dirs, files in os.walk(r'C:\\Users\\USER\\Desktop\\zipautomation\\2020\\12\\17'):\n",
    "    \n",
    "    for fname in files:\n",
    "        \n",
    "        full_fname = os.path.join(root, fname)\n",
    "        \n",
    "        ftp_send.storbinary('STOR ' + fname, open(full_fname, 'rb'))\n",
    "        \n",
    "        #print(full_fname)"
   ]
  },
  {
   "cell_type": "code",
   "execution_count": null,
   "metadata": {},
   "outputs": [],
   "source": [
    "src_path = os.getcwd()\n",
    "for root, dirs, files in os.walk(r'C:\\Users\\USER\\Desktop\\zipautomation\\2020\\12\\17'):\n",
    "    for name in files:\n",
    "        target_file = os.path.join(root, name)\n",
    "        fname = os.path.basename(target_file)\n",
    "        if fname[:1] == '.':\n",
    "            continue\n",
    "        file = open(target_file, 'rb')\n",
    "        ftp_send.storbinary('STOR ' + fname, file)\n",
    "        file.close()\n",
    "ftp_send.quit()"
   ]
  },
  {
   "cell_type": "code",
   "execution_count": 55,
   "metadata": {},
   "outputs": [
    {
     "ename": "FileNotFoundError",
     "evalue": "[Errno 2] No such file or directory: '1.zip'",
     "output_type": "error",
     "traceback": [
      "\u001b[1;31m---------------------------------------------------------------------------\u001b[0m",
      "\u001b[1;31mFileNotFoundError\u001b[0m                         Traceback (most recent call last)",
      "\u001b[1;32m<ipython-input-55-ad3e06795ec0>\u001b[0m in \u001b[0;36m<module>\u001b[1;34m\u001b[0m\n\u001b[0;32m     24\u001b[0m             \u001b[0mname\u001b[0m \u001b[1;33m=\u001b[0m \u001b[1;34mr'C:/Users/USER/Desktop/zipautomation/2020/12/17'\u001b[0m\u001b[1;33m\u001b[0m\u001b[1;33m\u001b[0m\u001b[0m\n\u001b[0;32m     25\u001b[0m \u001b[1;33m\u001b[0m\u001b[0m\n\u001b[1;32m---> 26\u001b[1;33m             \u001b[0mftp_send\u001b[0m\u001b[1;33m.\u001b[0m\u001b[0mstorbinary\u001b[0m\u001b[1;33m(\u001b[0m\u001b[1;34m'STOR '\u001b[0m\u001b[1;33m+\u001b[0m\u001b[0mname\u001b[0m\u001b[1;33m,\u001b[0m \u001b[0mopen\u001b[0m\u001b[1;33m(\u001b[0m\u001b[0mfile_name\u001b[0m\u001b[1;33m,\u001b[0m \u001b[1;34m'rb'\u001b[0m\u001b[1;33m)\u001b[0m\u001b[1;33m)\u001b[0m\u001b[1;33m\u001b[0m\u001b[1;33m\u001b[0m\u001b[0m\n\u001b[0m\u001b[0;32m     27\u001b[0m \u001b[1;33m\u001b[0m\u001b[0m\n",
      "\u001b[1;31mFileNotFoundError\u001b[0m: [Errno 2] No such file or directory: '1.zip'"
     ]
    }
   ],
   "source": [
    "path = []\n",
    "\n",
    "directory = os.getcwd()\n",
    "\n",
    "# Walking a directory tree and printing the names of the directories and files\n",
    "\n",
    "for dirpath, dirnames, files in os.walk('.'):\n",
    "    \n",
    "    #path.append(dirpath)\n",
    "    \n",
    "    path.append(dirpath)\n",
    "    \n",
    "    #print(dirpath)\n",
    "    \n",
    "    \n",
    "    for file_name in files:\n",
    "        \n",
    "        if file_name.endswith('.zip'):\n",
    "            \n",
    "            #name = os.path.join(directory,path[-2],file_name)\n",
    "            \n",
    "            #print(name)\n",
    "            \n",
    "            name = r'C:/Users/USER/Desktop/zipautomation/2020/12/17'\n",
    "            \n",
    "            ftp_send.storbinary('STOR '+name, open(file_name, 'rb'))\n",
    "            "
   ]
  },
  {
   "cell_type": "code",
   "execution_count": 45,
   "metadata": {},
   "outputs": [
    {
     "data": {
      "text/plain": [
       "'.\\\\2020\\\\12\\\\17'"
      ]
     },
     "execution_count": 45,
     "metadata": {},
     "output_type": "execute_result"
    }
   ],
   "source": [
    "path[-2]"
   ]
  },
  {
   "cell_type": "code",
   "execution_count": 32,
   "metadata": {},
   "outputs": [
    {
     "data": {
      "text/plain": [
       "['C:\\\\Users\\\\USER\\\\Desktop\\\\zipautomation\\\\.ipynb_checkpoints\\\\.']"
      ]
     },
     "execution_count": 32,
     "metadata": {},
     "output_type": "execute_result"
    }
   ],
   "source": [
    "path_r"
   ]
  },
  {
   "cell_type": "code",
   "execution_count": 25,
   "metadata": {},
   "outputs": [
    {
     "name": "stdout",
     "output_type": "stream",
     "text": [
      ".\\17122020.zip\n",
      ".\\main.py\n",
      ".\\zip.ipynb\n",
      ".\\.ipynb_checkpoints\\zip-checkpoint.ipynb\n",
      ".\\2020\\12\\17\\18683194.zip\n",
      ".\\2020\\12\\17\\31583365.zip\n",
      ".\\2020\\12\\17\\31642767.zip\n",
      ".\\2020\\12\\17\\34427733.zip\n",
      ".\\2020\\12\\17\\35632823.zip\n"
     ]
    }
   ],
   "source": [
    "datapath =[]\n",
    "#traversing through directories\n",
    "for dirpath, dirnames, files in os.walk('.'):\n",
    "    \n",
    "    #print(dirpath)\n",
    "    \n",
    "    datapath.append(dirpath)\n",
    "    \n",
    "    for file_name in files:\n",
    "        \n",
    "        if file_name.endswith('.zip'):\n",
    "            \n",
    "        \n",
    "            d = datapath[-1]\n",
    "        \n",
    "            path = '{0}\\{1}'.format(d,file_name)\n",
    "            print(path)\n",
    "        \n",
    "    "
   ]
  },
  {
   "cell_type": "code",
   "execution_count": null,
   "metadata": {},
   "outputs": [],
   "source": []
  }
 ],
 "metadata": {
  "kernelspec": {
   "display_name": "Python 3",
   "language": "python",
   "name": "python3"
  },
  "language_info": {
   "codemirror_mode": {
    "name": "ipython",
    "version": 3
   },
   "file_extension": ".py",
   "mimetype": "text/x-python",
   "name": "python",
   "nbconvert_exporter": "python",
   "pygments_lexer": "ipython3",
   "version": "3.8.3"
  }
 },
 "nbformat": 4,
 "nbformat_minor": 4
}

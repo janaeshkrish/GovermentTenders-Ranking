{
 "cells": [
  {
   "cell_type": "markdown",
   "metadata": {},
   "source": [
    "Bid Specific Additional Terms and Conditions\n"
   ]
  },
  {
   "cell_type": "code",
   "execution_count": 1,
   "metadata": {},
   "outputs": [],
   "source": [
    "import warnings\n",
    "warnings.filterwarnings(\"ignore\")\n",
    "from delete import delete_dir\n",
    "from pdfminer.high_level import extract_text"
   ]
  },
  {
   "cell_type": "code",
   "execution_count": 11,
   "metadata": {},
   "outputs": [],
   "source": [
    "filename = r'C:/Users/USER/Desktop/pdfss/1.pdf'"
   ]
  },
  {
   "cell_type": "code",
   "execution_count": 12,
   "metadata": {},
   "outputs": [],
   "source": [
    "text = extract_text(filename)"
   ]
  },
  {
   "cell_type": "code",
   "execution_count": 13,
   "metadata": {},
   "outputs": [],
   "source": [
    "eligiblity_conditions=[]"
   ]
  },
  {
   "cell_type": "code",
   "execution_count": 14,
   "metadata": {},
   "outputs": [],
   "source": [
    "word = '---Thank You---'"
   ]
  },
  {
   "cell_type": "code",
   "execution_count": 23,
   "metadata": {},
   "outputs": [],
   "source": [
    "if text.split('Special terms and conditions'):\n",
    "\n",
    "    result = text.split('Special terms and conditions')[1]\n",
    "\n",
    "    if word in result:\n",
    "        \n",
    "        result = result.split('---Thank You---')[0]\n",
    "\n",
    "        result = '\\n   Special terms and conditions :   \\n'+ str(result)\n",
    "                                        \n",
    "        eligiblity_conditions.append(result)"
   ]
  },
  {
   "cell_type": "code",
   "execution_count": 24,
   "metadata": {},
   "outputs": [
    {
     "name": "stdout",
     "output_type": "stream",
     "text": [
      "[\"/n   Special terms and conditions :   /n for category Desktop Computers \\n\\n1. As per notification of MEITY circulated vide letter no. F.No.33(1)/2017-IPHW..dated\\n\\n:14/09/2017, the minimum local content should be 45.percent to qualify as local or domestic\\nmanufacturer.\\\\n\\\\nSeller has to ensure that operating system software etc comes preloaded\\nwith machine from respective OEM . Any deviation in respect of genuinity and authenticity of\\nOS will attract severe penalty on part of seller as law of the land and contractual provisions.\\nBuyer are also requested to verify the key no of OS etc with server of Microsoft/Linux before\\naccepting machines to avoid complexity at latter stage.\\n\\nBid Specific Additional Terms and Conditions\\n\\n1. Bidder's offer is liable to be rejected if they don't upload any of the certificates / documents\\n\\nsought in the Bid document, ATC and Corrigendum if any.\\n\\n2. ISO 9001: The bidder or the OEM of the offered products must have ISO 9001 certification.\\n3. Material Test Certificate Should Be Sent Along with The Supply. The Material Will Be Checked\\nby Buyer’s Lab & the Results of the Lab will be the Sole Criteria for Acceptance of the Item.\\n\\n4. The bidder is required to upload, along with the bid, all relevant certificates such as BIS\\n\\nlicence, type test certificate, approval certificates and other certificates as prescribed in the\\nProduct Specification given in the bid document.\\n\\nThis RA is also governed by the General Terms and Conditions\\n\\nIn terms of GeM GTC clause 26 regarding Restrictions on procurement from a bidder of a country which shares a land border with India, any bidder\\nfrom a country which shares a land border with India will be eligible to bid in this tender only if the bidder is registered with the Competent Authority.\\nWhile participating in bid, Bidder has to undertake compliance of this and any false declaration and non-compliance of this would be a ground for\\nimmediate termination of the contract and further legal action in accordance with the laws.\\n\\n                               3 / 4\\n\\n \\x0c\", \"/n   Special terms and conditions :   /n for category Desktop Computers \\n\\n1. As per notification of MEITY circulated vide letter no. F.No.33(1)/2017-IPHW..dated\\n\\n:14/09/2017, the minimum local content should be 45.percent to qualify as local or domestic\\nmanufacturer.\\\\n\\\\nSeller has to ensure that operating system software etc comes preloaded\\nwith machine from respective OEM . Any deviation in respect of genuinity and authenticity of\\nOS will attract severe penalty on part of seller as law of the land and contractual provisions.\\nBuyer are also requested to verify the key no of OS etc with server of Microsoft/Linux before\\naccepting machines to avoid complexity at latter stage.\\n\\nBid Specific Additional Terms and Conditions\\n\\n1. Bidder's offer is liable to be rejected if they don't upload any of the certificates / documents\\n\\nsought in the Bid document, ATC and Corrigendum if any.\\n\\n2. ISO 9001: The bidder or the OEM of the offered products must have ISO 9001 certification.\\n3. Material Test Certificate Should Be Sent Along with The Supply. The Material Will Be Checked\\nby Buyer’s Lab & the Results of the Lab will be the Sole Criteria for Acceptance of the Item.\\n\\n4. The bidder is required to upload, along with the bid, all relevant certificates such as BIS\\n\\nlicence, type test certificate, approval certificates and other certificates as prescribed in the\\nProduct Specification given in the bid document.\\n\\nThis RA is also governed by the General Terms and Conditions\\n\\nIn terms of GeM GTC clause 26 regarding Restrictions on procurement from a bidder of a country which shares a land border with India, any bidder\\nfrom a country which shares a land border with India will be eligible to bid in this tender only if the bidder is registered with the Competent Authority.\\nWhile participating in bid, Bidder has to undertake compliance of this and any false declaration and non-compliance of this would be a ground for\\nimmediate termination of the contract and further legal action in accordance with the laws.\\n\\n                               3 / 4\\n\\n \\x0c\", \"\\n   Special terms and conditions :   \\n for category Desktop Computers \\n\\n1. As per notification of MEITY circulated vide letter no. F.No.33(1)/2017-IPHW..dated\\n\\n:14/09/2017, the minimum local content should be 45.percent to qualify as local or domestic\\nmanufacturer.\\\\n\\\\nSeller has to ensure that operating system software etc comes preloaded\\nwith machine from respective OEM . Any deviation in respect of genuinity and authenticity of\\nOS will attract severe penalty on part of seller as law of the land and contractual provisions.\\nBuyer are also requested to verify the key no of OS etc with server of Microsoft/Linux before\\naccepting machines to avoid complexity at latter stage.\\n\\nBid Specific Additional Terms and Conditions\\n\\n1. Bidder's offer is liable to be rejected if they don't upload any of the certificates / documents\\n\\nsought in the Bid document, ATC and Corrigendum if any.\\n\\n2. ISO 9001: The bidder or the OEM of the offered products must have ISO 9001 certification.\\n3. Material Test Certificate Should Be Sent Along with The Supply. The Material Will Be Checked\\nby Buyer’s Lab & the Results of the Lab will be the Sole Criteria for Acceptance of the Item.\\n\\n4. The bidder is required to upload, along with the bid, all relevant certificates such as BIS\\n\\nlicence, type test certificate, approval certificates and other certificates as prescribed in the\\nProduct Specification given in the bid document.\\n\\nThis RA is also governed by the General Terms and Conditions\\n\\nIn terms of GeM GTC clause 26 regarding Restrictions on procurement from a bidder of a country which shares a land border with India, any bidder\\nfrom a country which shares a land border with India will be eligible to bid in this tender only if the bidder is registered with the Competent Authority.\\nWhile participating in bid, Bidder has to undertake compliance of this and any false declaration and non-compliance of this would be a ground for\\nimmediate termination of the contract and further legal action in accordance with the laws.\\n\\n                               3 / 4\\n\\n \\x0c\", \"\\n   Special terms and conditions :   \\n for category Desktop Computers \\n\\n1. As per notification of MEITY circulated vide letter no. F.No.33(1)/2017-IPHW..dated\\n\\n:14/09/2017, the minimum local content should be 45.percent to qualify as local or domestic\\nmanufacturer.\\\\n\\\\nSeller has to ensure that operating system software etc comes preloaded\\nwith machine from respective OEM . Any deviation in respect of genuinity and authenticity of\\nOS will attract severe penalty on part of seller as law of the land and contractual provisions.\\nBuyer are also requested to verify the key no of OS etc with server of Microsoft/Linux before\\naccepting machines to avoid complexity at latter stage.\\n\\nBid Specific Additional Terms and Conditions\\n\\n1. Bidder's offer is liable to be rejected if they don't upload any of the certificates / documents\\n\\nsought in the Bid document, ATC and Corrigendum if any.\\n\\n2. ISO 9001: The bidder or the OEM of the offered products must have ISO 9001 certification.\\n3. Material Test Certificate Should Be Sent Along with The Supply. The Material Will Be Checked\\nby Buyer’s Lab & the Results of the Lab will be the Sole Criteria for Acceptance of the Item.\\n\\n4. The bidder is required to upload, along with the bid, all relevant certificates such as BIS\\n\\nlicence, type test certificate, approval certificates and other certificates as prescribed in the\\nProduct Specification given in the bid document.\\n\\nThis RA is also governed by the General Terms and Conditions\\n\\nIn terms of GeM GTC clause 26 regarding Restrictions on procurement from a bidder of a country which shares a land border with India, any bidder\\nfrom a country which shares a land border with India will be eligible to bid in this tender only if the bidder is registered with the Competent Authority.\\nWhile participating in bid, Bidder has to undertake compliance of this and any false declaration and non-compliance of this would be a ground for\\nimmediate termination of the contract and further legal action in accordance with the laws.\\n\\n                               3 / 4\\n\\n \\x0c\"]\n"
     ]
    }
   ],
   "source": [
    "print(eligiblity_conditions)                      "
   ]
  },
  {
   "cell_type": "code",
   "execution_count": 19,
   "metadata": {},
   "outputs": [
    {
     "data": {
      "text/plain": [
       "[\"\\n\\n1.Duration of the service contract may be extended up to 6 months beyond the initial contract duration (subject to\\n\\n2.While generating invoice in GeM portal, the seller must upload scanned copy of GST invoice and the screenshot\\n\\nsatisfactory performance and mutual consent).\\n\\nof GST portal confirming payment of GST.\\n\\n3.1. The Seller shall not assign the Contract in whole or part without obtaining the prior written consent of buyer.\\n\\n2. The Seller shall not sub-contract the Contract in whole or part to any entity without obtaining the prior written\\nconsent of buyer.\\n3. The Seller shall, notwithstanding the consent and assignment/sub-contract, remain jointly and severally liable\\nand responsible to buyer together with the assignee/ sub-contractor, for and in respect of the due performance\\nof the Contract and the Sellers obligations there under.\\n\\n4.PAYMENT OF SALARIES AND WAGES: Service Provider is required to pay Salaries / wages of contracted staff\\ndeployed at buyer location first i.e. on their own and then claim payment from Buyer alongwith all statutory\\ndocuments like, PF, ESIC etc. as well as the bank statement of payment done to staff.\\n\\n5.Bidder's offer is liable to be rejected if they don't upload any of the certificates / documents sought in the Bid\\n\\ndocument, ATC and Corrigendum if any.\\n\\n6.AVAILABILITY OF OFFICE OF SERVICE PROVIDER: An office of the Service Provider must be located in the state of\\n\\nConsignee. DOCUMENTARY EVIDENCE TO BE SUBMITTED.\\n\\n7.Escalation Matrix For Service Support : Bidder/OEM must provide Escalation Matrix of Telephone Numbers for\\n\\nService Support.\\n\\n8.For fulfilling the experience criteria any one of the following documents may be considered as valid proof for\\n\\nmeeting the experience criteria:\\na. Purchase Order copy along with Invoice(s) with self-certification by the bidder that supplies against the\\ninvoices have been executed.\\nb. Execution certificate by client with order value.\\nc. Any other document in support of order execution like Third Party Inspection release note, etc.\\n\\n  This Bid is governed by the General Terms and Conditions, conditons stipulated in Bid and Service Level Agreement\\nspecific to this Service as provided in the Marketplace. However in case if any condition specified in General Terms and\\nConditions is contradicted by the conditions stipulated in Service Level Agreement, then it will over ride the conditions in\\nthe General Terms and Conditions. \\n\\nIn terms of GeM GTC clause 26 regarding Restrictions on procurement from a bidder of a country which shares a land border with India, any bidder\\nfrom a country which shares a land border with India will be eligible to bid in this tender only if the bidder is registered with the Competent Authority.\\nWhile participating in bid, Bidder has to undertake compliance of this and any false declaration and non-compliance of this would be a ground for\\nimmediate termination of the contract and further legal action in accordance with the laws.\\n\\n---Thank You---\\n\\nPowered by TCPDF (www.tcpdf.org)\\n\\n                               3 / 3\\n\\n \\x0c\"]"
      ]
     },
     "execution_count": 19,
     "metadata": {},
     "output_type": "execute_result"
    }
   ],
   "source": [
    "eligiblity_conditions"
   ]
  },
  {
   "cell_type": "code",
   "execution_count": 5,
   "metadata": {},
   "outputs": [
    {
     "data": {
      "text/plain": [
       "['Special terms and conditions :  ']"
      ]
     },
     "execution_count": 5,
     "metadata": {},
     "output_type": "execute_result"
    }
   ],
   "source": [
    "#Getting the terms and conditions For Gem tenders\n",
    "if text.split('Special terms and conditions'):\n",
    "    \n",
    "    result = text.split('Special terms and conditions')[1]\n",
    "    \n",
    "    if result.split('---Thank You---'):\n",
    "        \n",
    "        print(result)"
   ]
  },
  {
   "cell_type": "code",
   "execution_count": 10,
   "metadata": {},
   "outputs": [
    {
     "data": {
      "text/plain": [
       "\"\\n\\n1.Duration of the service contract may be extended up to 6 months beyond the initial contract duration (subject to\\n\\n2.While generating invoice in GeM portal, the seller must upload scanned copy of GST invoice and the screenshot\\n\\nsatisfactory performance and mutual consent).\\n\\nof GST portal confirming payment of GST.\\n\\n3.1. The Seller shall not assign the Contract in whole or part without obtaining the prior written consent of buyer.\\n\\n2. The Seller shall not sub-contract the Contract in whole or part to any entity without obtaining the prior written\\nconsent of buyer.\\n3. The Seller shall, notwithstanding the consent and assignment/sub-contract, remain jointly and severally liable\\nand responsible to buyer together with the assignee/ sub-contractor, for and in respect of the due performance\\nof the Contract and the Sellers obligations there under.\\n\\n4.PAYMENT OF SALARIES AND WAGES: Service Provider is required to pay Salaries / wages of contracted staff\\ndeployed at buyer location first i.e. on their own and then claim payment from Buyer alongwith all statutory\\ndocuments like, PF, ESIC etc. as well as the bank statement of payment done to staff.\\n\\n5.Bidder's offer is liable to be rejected if they don't upload any of the certificates / documents sought in the Bid\\n\\ndocument, ATC and Corrigendum if any.\\n\\n6.AVAILABILITY OF OFFICE OF SERVICE PROVIDER: An office of the Service Provider must be located in the state of\\n\\nConsignee. DOCUMENTARY EVIDENCE TO BE SUBMITTED.\\n\\n7.Escalation Matrix For Service Support : Bidder/OEM must provide Escalation Matrix of Telephone Numbers for\\n\\nService Support.\\n\\n8.For fulfilling the experience criteria any one of the following documents may be considered as valid proof for\\n\\nmeeting the experience criteria:\\na. Purchase Order copy along with Invoice(s) with self-certification by the bidder that supplies against the\\ninvoices have been executed.\\nb. Execution certificate by client with order value.\\nc. Any other document in support of order execution like Third Party Inspection release note, etc.\\n\\n  This Bid is governed by the General Terms and Conditions, conditons stipulated in Bid and Service Level Agreement\\nspecific to this Service as provided in the Marketplace. However in case if any condition specified in General Terms and\\nConditions is contradicted by the conditions stipulated in Service Level Agreement, then it will over ride the conditions in\\nthe General Terms and Conditions. \\n\\nIn terms of GeM GTC clause 26 regarding Restrictions on procurement from a bidder of a country which shares a land border with India, any bidder\\nfrom a country which shares a land border with India will be eligible to bid in this tender only if the bidder is registered with the Competent Authority.\\nWhile participating in bid, Bidder has to undertake compliance of this and any false declaration and non-compliance of this would be a ground for\\nimmediate termination of the contract and further legal action in accordance with the laws.\\n\\n---Thank You---\\n\\nPowered by TCPDF (www.tcpdf.org)\\n\\n                               3 / 3\\n\\n \\x0c\""
      ]
     },
     "execution_count": 10,
     "metadata": {},
     "output_type": "execute_result"
    }
   ],
   "source": [
    "text.split('Bid Specific Additional Terms and Conditions')[1]"
   ]
  },
  {
   "cell_type": "code",
   "execution_count": 20,
   "metadata": {},
   "outputs": [
    {
     "name": "stdout",
     "output_type": "stream",
     "text": [
      "First line \n",
      " Second line\n"
     ]
    }
   ],
   "source": [
    "print('First line \\n Second line') "
   ]
  },
  {
   "cell_type": "code",
   "execution_count": null,
   "metadata": {},
   "outputs": [],
   "source": []
  }
 ],
 "metadata": {
  "kernelspec": {
   "display_name": "Python 3",
   "language": "python",
   "name": "python3"
  },
  "language_info": {
   "codemirror_mode": {
    "name": "ipython",
    "version": 3
   },
   "file_extension": ".py",
   "mimetype": "text/x-python",
   "name": "python",
   "nbconvert_exporter": "python",
   "pygments_lexer": "ipython3",
   "version": "3.8.3"
  }
 },
 "nbformat": 4,
 "nbformat_minor": 4
}

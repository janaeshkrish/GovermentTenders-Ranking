{
 "cells": [
  {
   "cell_type": "markdown",
   "metadata": {},
   "source": [
    "# GEM ELIGIBLE CONDITIONS"
   ]
  },
  {
   "cell_type": "code",
   "execution_count": 1,
   "metadata": {},
   "outputs": [],
   "source": [
    "from pdfminer.high_level import extract_text"
   ]
  },
  {
   "cell_type": "code",
   "execution_count": 3,
   "metadata": {},
   "outputs": [
    {
     "data": {
      "text/plain": [
       "\"  \\n\\n \\n\\n  \\n\\n  Bid Number: GEM/2020/B/912527\\n  Dated: 09-12-2020\\n\\nBid End Date/Time\\n\\nBid Opening Date/Time\\n\\nBid Life Cycle (From Publish Date)\\n\\nBid Offer Validity (From End Date)\\n\\nMinistry/State Name\\n\\nDepartment Name\\n\\nOrganisation Name\\n\\nOffice Name\\n\\nTotal Quantity\\n\\nItem Category\\n\\nMSE Exemption for Years of Experience and\\nTurnover\\n\\nStartup Exemption for Years of Experience and\\nTurnover\\n\\nDocument required from seller\\n\\nBid Document\\n\\nBid Details\\n\\n19-12-2020 17:00:00\\n\\n19-12-2020 17:30:00\\n\\n90 (Days)\\n\\n75 (Days)\\n\\nMinistry Of Electronics And Information Technology\\n\\nSociety For Applied Microwave Electronic Engineering And\\nResearch (sameer)\\n\\nSameer-cem, Chennai\\n\\nDesktop Computers\\n\\n Certificate (Requested in ATC),OEM Authorization Certificate\\n*In case any bidder is seeking exemption from Experience /\\nTurnover Criteria, the supporting documents to prove his\\neligibility for exemption must be uploaded for evaluation by the\\nbuyer\\n\\nNa\\n\\n1\\n\\n No\\n\\n No\\n\\n No\\n\\n No\\n\\nNo\\n\\nNo\\n\\nBid to RA enabled\\n\\nInspection Required\\n\\nEMD Detail\\n\\nRequired\\n\\nePBG Detail\\n\\nRequired\\n\\nSplitting\\n\\n Bid splitting not applied.\\n\\nDesktop Computers ( 1 pieces )\\n\\nTechnical Specifications\\n\\n* As per GeM Category Specification\\n\\nSpecification\\n\\nSpecification Name\\n\\nBid Requirement (Allowed Values)\\n\\n                               1 / 3\\n\\n \\x0cMotherboard\\n\\nChipset Series\\n\\nIntel Q Series Or higher\\n\\nChipset Number\\n\\nIntel Q 470 Or higher\\n\\nProcessor\\n\\nProcessor Make\\n\\nIntel\\n\\nProcessor Generation 10.0 Or higher\\n\\nNumber of Cores per\\nProcessor\\n\\n8, 10, 12 Or higher\\n\\nProcessor Base\\nFrequency (GHz)\\n\\n2.9, 3, 3.1, 3.2, 3.3, 3.4, 3.5, 3.6, 3.7,\\n3.8, 3.9, 4, 4.1, 4.2, 4.3 Or higher\\n\\nProcessor Description Intel Core i7, Intel Core i9 Or higher\\n\\nProcessor Number\\n\\nIntel Core i9 10900K, Intel Core i9\\n10900KF, Intel Core i9 10900, Intel\\nCore i9 10900F, Intel Core i7 10700K,\\nIntel Core i7 10700KF, Intel Core i7\\n10700, Intel Core i7 10700F Or higher\\n\\nCache (MB)\\n\\n16.0 - 96.0 Or higher\\n\\nGraphics\\n\\nGraphics Type\\n\\nDedicated/Discrete\\n\\nOperating System Operating System\\n\\nWindows 10 Professional\\n\\n(Factory Pre-Loaded)\\n\\nMemory\\n\\nRAM Size (GB)\\n\\n16, 32, 64, 128 Or higher\\n\\nStorage\\n\\nHDD, SSD\\n\\n128 Or higher\\n\\nRAM Expandability up\\nto( using spare DIMM\\nSlots in GB)\\n\\nType of Drives used\\nto populate the\\nInternal Bays\\n\\nTotal HDD Capacity\\n(GB)\\n\\n1000, 1500, 2000, 2500, 3000, 4000\\nOr higher\\n\\nTotal SSD Capacity\\n(GB)\\n\\n256, 384, 512, 768, 1024, 2048, 4096\\nOr higher\\n\\nTotal SSHD Capacity\\nin addition to 8 GB\\nFlash (GB)\\n\\n500, 1000, 2000, 0 Or higher\\n\\nOptane Memory (GB)\\n\\n8, 16, 32, 0, 64 Or higher\\n\\nCabinet\\n\\nCabinet Form Factor\\n\\nSFF ( 7 to 13 Litres), Tower (13.1 to 26\\nLitres)\\n\\nMonitor\\n\\nMonitor Technology\\n\\nIPS Or higher\\n\\nLED Backlit Monitor\\nSize (INCHES)\\n\\n21.5, 22, 23, 24, 27, 23.8, 32 Or\\nhigher\\n\\nMonitor Resolution\\n(PIXELS)\\n\\n1920x1080, 1920 x 1200, 3200x1800,\\n3840 x 2160, 2560 x 1440 Or higher\\n\\nWarranty\\n\\n3, 5, 4 Or higher\\n\\nOn Site OEM\\nWarranty (Year)\\n\\n* Specifications highlighted in bold are the Golden Parameters.\\n  * Bidders may note that In respect of non-golden Parameters, the specifications 'Values' chosen by Buyer will generally\\nbe preferred over 'Bid requirement ( allowed Values) by the Buyer.\\n\\n Consignees/Reporting Officer and Quantity\\n\\nS.No.\\n\\nConsignee/Reporting\\nOfficer\\n\\nAddress\\n\\nQuantity\\n\\nDelivery Days\\n\\n                               2 / 3\\n\\n \\x0c1\\n\\nBhadru Amgothu\\n\\n1\\n\\n 15\\n\\n600113,SAMEER-CEM, Central\\nPolytechnic Campus, 2nd Cross\\nRoad (Opposite to Indira Nagar\\nMRTS Railway Station), Taramani,\\nChennai, Chennai, 600113\\n\\nSpecial terms and conditions for category Desktop Computers \\n\\n1.As per notification of MEITY circulated vide letter no. F.No.33(1)/2017-IPHW..dated :14/09/2017, the minimum\\nlocal content should be 45.percent to qualify as local or domestic manufacturer.\\\\n\\\\nSeller has to ensure that\\noperating system software etc comes preloaded with machine from respective OEM . Any deviation in respect of\\ngenuinity and authenticity of OS will attract severe penalty on part of seller as law of the land and contractual\\nprovisions. Buyer are also requested to verify the key no of OS etc with server of Microsoft/Linux before\\naccepting machines to avoid complexity at latter stage.\\n\\nBid Specific Additional Terms and Conditions\\n\\n1.Bidder's offer is liable to be rejected if they don't upload any of the certificates / documents sought in the Bid\\n\\ndocument, ATC and Corrigendum if any.\\n\\n2.Availability of Service Centres: Bidder/OEM must have a Functional Service Centre in the State of each\\n\\nConsignee's Location in case of carry-in warranty. (Not applicable in case of goods having on-site warranty). If\\nservice center is not already there at the time of bidding, successful bidder / OEM shall have to establish one\\nwithin 30 days of award of contract. Payment shall be released only after submission of documentary evidence\\nof having Functional Service Centre.\\n\\n3.Installation, Commissioning, Testing, Configuration, Training (if any - which ever is applicable as per scope of\\n\\nsupply) is to be carried out by OEM / OEM Certified resource or OEM authorised Reseller.\\n\\n4.Malicious Code Certificate:\\n\\nThe seller should upload following certificate in the bid:-\\n(a) This is to certify that the Hardware and the Software being offered, as part of the contract, does not contain\\nEmbedded Malicious code that would activate procedures to :-\\n  (i) Inhibit the desires and designed function of the equipment.\\n  (ii) Cause physical damage to the user or equipment during the exploitation.\\n  (iii) Tap information resident or transient in the equipment/network.\\n(b) The firm will be considered to be in breach of the procurement contract, in case physical damage, loss of\\ninformation or infringements related to copyright and Intellectual Property Right (IPRs) are caused due to\\nactivation of any such malicious code in embedded software.\\n\\n5.The buyer organization is an institution eligible for concessional rates of GST as notified by the Government of\\nIndia. The goods for which bids have been invited fall under classification of GST concession and the conditions\\nfor eligibility of concession are met by the institution. A certificate to this effect will be issued by Buyer to the\\nSeller after award of the Contract. Sellers are requested to submit their bids after accounting for the\\nConcessional rate of GST.\\nApplicable Concessional rate of GST : 5%\\nNotification No.and date : 47/2017 dated 14/11/2017\\n\\nThis Bid is also governed by the General Terms and Conditions\\n\\nIn terms of GeM GTC clause 26 regarding Restrictions on procurement from a bidder of a country which shares a land border with India, any bidder\\nfrom a country which shares a land border with India will be eligible to bid in this tender only if the bidder is registered with the Competent Authority.\\nWhile participating in bid, Bidder has to undertake compliance of this and any false declaration and non-compliance of this would be a ground for\\nimmediate termination of the contract and further legal action in accordance with the laws.\\n\\n---Thank You---\\n\\nPowered by TCPDF (www.tcpdf.org)\\n\\n                               3 / 3\\n\\n \\x0c\""
      ]
     },
     "execution_count": 3,
     "metadata": {},
     "output_type": "execute_result"
    }
   ],
   "source": [
    "text = extract_text(r\"C:/Users/USER/Desktop/pdfss/70405115.pdf\")\n",
    "\n",
    "text"
   ]
  },
  {
   "cell_type": "markdown",
   "metadata": {},
   "source": [
    "#Cleaning the text\n",
    "text = text.strip()\n",
    "text"
   ]
  },
  {
   "cell_type": "markdown",
   "metadata": {},
   "source": [
    "#Lowercase All the Contents\n",
    "text = text.lower()\n",
    "text"
   ]
  },
  {
   "cell_type": "code",
   "execution_count": 4,
   "metadata": {},
   "outputs": [
    {
     "data": {
      "text/plain": [
       "[\"  \\n\\n \\n\\n  \\n\\n  Bid Number: GEM/2020/B/912527\\n  Dated: 09-12-2020\\n\\nBid End Date/Time\\n\\nBid Opening Date/Time\\n\\nBid Life Cycle (From Publish Date)\\n\\nBid Offer Validity (From End Date)\\n\\nMinistry/State Name\\n\\nDepartment Name\\n\\nOrganisation Name\\n\\nOffice Name\\n\\nTotal Quantity\\n\\nItem Category\\n\\nMSE Exemption for Years of Experience and\\nTurnover\\n\\nStartup Exemption for Years of Experience and\\nTurnover\\n\\nDocument required from seller\\n\\nBid Document\\n\\nBid Details\\n\\n19-12-2020 17:00:00\\n\\n19-12-2020 17:30:00\\n\\n90 (Days)\\n\\n75 (Days)\\n\\nMinistry Of Electronics And Information Technology\\n\\nSociety For Applied Microwave Electronic Engineering And\\nResearch (sameer)\\n\\nSameer-cem, Chennai\\n\\nDesktop Computers\\n\\n Certificate (Requested in ATC),OEM Authorization Certificate\\n*In case any bidder is seeking exemption from Experience /\\nTurnover Criteria, the supporting documents to prove his\\neligibility for exemption must be uploaded for evaluation by the\\nbuyer\\n\\nNa\\n\\n1\\n\\n No\\n\\n No\\n\\n No\\n\\n No\\n\\nNo\\n\\nNo\\n\\nBid to RA enabled\\n\\nInspection Required\\n\\nEMD Detail\\n\\nRequired\\n\\nePBG Detail\\n\\nRequired\\n\\nSplitting\\n\\n Bid splitting not applied.\\n\\nDesktop Computers ( 1 pieces )\\n\\nTechnical Specifications\\n\\n* As per GeM Category Specification\\n\\nSpecification\\n\\nSpecification Name\\n\\nBid Requirement (Allowed Values)\\n\\n                               1 / 3\\n\\n \\x0cMotherboard\\n\\nChipset Series\\n\\nIntel Q Series Or higher\\n\\nChipset Number\\n\\nIntel Q 470 Or higher\\n\\nProcessor\\n\\nProcessor Make\\n\\nIntel\\n\\nProcessor Generation 10.0 Or higher\\n\\nNumber of Cores per\\nProcessor\\n\\n8, 10, 12 Or higher\\n\\nProcessor Base\\nFrequency (GHz)\\n\\n2.9, 3, 3.1, 3.2, 3.3, 3.4, 3.5, 3.6, 3.7,\\n3.8, 3.9, 4, 4.1, 4.2, 4.3 Or higher\\n\\nProcessor Description Intel Core i7, Intel Core i9 Or higher\\n\\nProcessor Number\\n\\nIntel Core i9 10900K, Intel Core i9\\n10900KF, Intel Core i9 10900, Intel\\nCore i9 10900F, Intel Core i7 10700K,\\nIntel Core i7 10700KF, Intel Core i7\\n10700, Intel Core i7 10700F Or higher\\n\\nCache (MB)\\n\\n16.0 - 96.0 Or higher\\n\\nGraphics\\n\\nGraphics Type\\n\\nDedicated/Discrete\\n\\nOperating System Operating System\\n\\nWindows 10 Professional\\n\\n(Factory Pre-Loaded)\\n\\nMemory\\n\\nRAM Size (GB)\\n\\n16, 32, 64, 128 Or higher\\n\\nStorage\\n\\nHDD, SSD\\n\\n128 Or higher\\n\\nRAM Expandability up\\nto( using spare DIMM\\nSlots in GB)\\n\\nType of Drives used\\nto populate the\\nInternal Bays\\n\\nTotal HDD Capacity\\n(GB)\\n\\n1000, 1500, 2000, 2500, 3000, 4000\\nOr higher\\n\\nTotal SSD Capacity\\n(GB)\\n\\n256, 384, 512, 768, 1024, 2048, 4096\\nOr higher\\n\\nTotal SSHD Capacity\\nin addition to 8 GB\\nFlash (GB)\\n\\n500, 1000, 2000, 0 Or higher\\n\\nOptane Memory (GB)\\n\\n8, 16, 32, 0, 64 Or higher\\n\\nCabinet\\n\\nCabinet Form Factor\\n\\nSFF ( 7 to 13 Litres), Tower (13.1 to 26\\nLitres)\\n\\nMonitor\\n\\nMonitor Technology\\n\\nIPS Or higher\\n\\nLED Backlit Monitor\\nSize (INCHES)\\n\\n21.5, 22, 23, 24, 27, 23.8, 32 Or\\nhigher\\n\\nMonitor Resolution\\n(PIXELS)\\n\\n1920x1080, 1920 x 1200, 3200x1800,\\n3840 x 2160, 2560 x 1440 Or higher\\n\\nWarranty\\n\\n3, 5, 4 Or higher\\n\\nOn Site OEM\\nWarranty (Year)\\n\\n* Specifications highlighted in bold are the Golden Parameters.\\n  * Bidders may note that In respect of non-golden Parameters, the specifications 'Values' chosen by Buyer will generally\\nbe preferred over 'Bid requirement ( allowed Values) by the Buyer.\\n\\n Consignees/Reporting Officer and Quantity\\n\\nS.No.\\n\\nConsignee/Reporting\\nOfficer\\n\\nAddress\\n\\nQuantity\\n\\nDelivery Days\\n\\n                               2 / 3\\n\\n \\x0c1\\n\\nBhadru Amgothu\\n\\n1\\n\\n 15\\n\\n600113,SAMEER-CEM, Central\\nPolytechnic Campus, 2nd Cross\\nRoad (Opposite to Indira Nagar\\nMRTS Railway Station), Taramani,\\nChennai, Chennai, 600113\\n\\n\",\n",
       " \" for category Desktop Computers \\n\\n1.As per notification of MEITY circulated vide letter no. F.No.33(1)/2017-IPHW..dated :14/09/2017, the minimum\\nlocal content should be 45.percent to qualify as local or domestic manufacturer.\\\\n\\\\nSeller has to ensure that\\noperating system software etc comes preloaded with machine from respective OEM . Any deviation in respect of\\ngenuinity and authenticity of OS will attract severe penalty on part of seller as law of the land and contractual\\nprovisions. Buyer are also requested to verify the key no of OS etc with server of Microsoft/Linux before\\naccepting machines to avoid complexity at latter stage.\\n\\nBid Specific Additional Terms and Conditions\\n\\n1.Bidder's offer is liable to be rejected if they don't upload any of the certificates / documents sought in the Bid\\n\\ndocument, ATC and Corrigendum if any.\\n\\n2.Availability of Service Centres: Bidder/OEM must have a Functional Service Centre in the State of each\\n\\nConsignee's Location in case of carry-in warranty. (Not applicable in case of goods having on-site warranty). If\\nservice center is not already there at the time of bidding, successful bidder / OEM shall have to establish one\\nwithin 30 days of award of contract. Payment shall be released only after submission of documentary evidence\\nof having Functional Service Centre.\\n\\n3.Installation, Commissioning, Testing, Configuration, Training (if any - which ever is applicable as per scope of\\n\\nsupply) is to be carried out by OEM / OEM Certified resource or OEM authorised Reseller.\\n\\n4.Malicious Code Certificate:\\n\\nThe seller should upload following certificate in the bid:-\\n(a) This is to certify that the Hardware and the Software being offered, as part of the contract, does not contain\\nEmbedded Malicious code that would activate procedures to :-\\n  (i) Inhibit the desires and designed function of the equipment.\\n  (ii) Cause physical damage to the user or equipment during the exploitation.\\n  (iii) Tap information resident or transient in the equipment/network.\\n(b) The firm will be considered to be in breach of the procurement contract, in case physical damage, loss of\\ninformation or infringements related to copyright and Intellectual Property Right (IPRs) are caused due to\\nactivation of any such malicious code in embedded software.\\n\\n5.The buyer organization is an institution eligible for concessional rates of GST as notified by the Government of\\nIndia. The goods for which bids have been invited fall under classification of GST concession and the conditions\\nfor eligibility of concession are met by the institution. A certificate to this effect will be issued by Buyer to the\\nSeller after award of the Contract. Sellers are requested to submit their bids after accounting for the\\nConcessional rate of GST.\\nApplicable Concessional rate of GST : 5%\\nNotification No.and date : 47/2017 dated 14/11/2017\\n\\nThis Bid is also governed by the General Terms and Conditions\\n\\nIn terms of GeM GTC clause 26 regarding Restrictions on procurement from a bidder of a country which shares a land border with India, any bidder\\nfrom a country which shares a land border with India will be eligible to bid in this tender only if the bidder is registered with the Competent Authority.\\nWhile participating in bid, Bidder has to undertake compliance of this and any false declaration and non-compliance of this would be a ground for\\nimmediate termination of the contract and further legal action in accordance with the laws.\\n\\n---Thank You---\\n\\nPowered by TCPDF (www.tcpdf.org)\\n\\n                               3 / 3\\n\\n \\x0c\"]"
      ]
     },
     "execution_count": 4,
     "metadata": {},
     "output_type": "execute_result"
    }
   ],
   "source": [
    "#Getting the terms and conditions\n",
    "text = text.split('Special terms and conditions')\n",
    "text"
   ]
  },
  {
   "cell_type": "code",
   "execution_count": 5,
   "metadata": {},
   "outputs": [
    {
     "data": {
      "text/plain": [
       "2"
      ]
     },
     "execution_count": 5,
     "metadata": {},
     "output_type": "execute_result"
    }
   ],
   "source": [
    "len(text)"
   ]
  },
  {
   "cell_type": "code",
   "execution_count": 7,
   "metadata": {},
   "outputs": [
    {
     "data": {
      "text/plain": [
       "\" for category Desktop Computers \\n\\n1.As per notification of MEITY circulated vide letter no. F.No.33(1)/2017-IPHW..dated :14/09/2017, the minimum\\nlocal content should be 45.percent to qualify as local or domestic manufacturer.\\\\n\\\\nSeller has to ensure that\\noperating system software etc comes preloaded with machine from respective OEM . Any deviation in respect of\\ngenuinity and authenticity of OS will attract severe penalty on part of seller as law of the land and contractual\\nprovisions. Buyer are also requested to verify the key no of OS etc with server of Microsoft/Linux before\\naccepting machines to avoid complexity at latter stage.\\n\\nBid Specific Additional Terms and Conditions\\n\\n1.Bidder's offer is liable to be rejected if they don't upload any of the certificates / documents sought in the Bid\\n\\ndocument, ATC and Corrigendum if any.\\n\\n2.Availability of Service Centres: Bidder/OEM must have a Functional Service Centre in the State of each\\n\\nConsignee's Location in case of carry-in warranty. (Not applicable in case of goods having on-site warranty). If\\nservice center is not already there at the time of bidding, successful bidder / OEM shall have to establish one\\nwithin 30 days of award of contract. Payment shall be released only after submission of documentary evidence\\nof having Functional Service Centre.\\n\\n3.Installation, Commissioning, Testing, Configuration, Training (if any - which ever is applicable as per scope of\\n\\nsupply) is to be carried out by OEM / OEM Certified resource or OEM authorised Reseller.\\n\\n4.Malicious Code Certificate:\\n\\nThe seller should upload following certificate in the bid:-\\n(a) This is to certify that the Hardware and the Software being offered, as part of the contract, does not contain\\nEmbedded Malicious code that would activate procedures to :-\\n  (i) Inhibit the desires and designed function of the equipment.\\n  (ii) Cause physical damage to the user or equipment during the exploitation.\\n  (iii) Tap information resident or transient in the equipment/network.\\n(b) The firm will be considered to be in breach of the procurement contract, in case physical damage, loss of\\ninformation or infringements related to copyright and Intellectual Property Right (IPRs) are caused due to\\nactivation of any such malicious code in embedded software.\\n\\n5.The buyer organization is an institution eligible for concessional rates of GST as notified by the Government of\\nIndia. The goods for which bids have been invited fall under classification of GST concession and the conditions\\nfor eligibility of concession are met by the institution. A certificate to this effect will be issued by Buyer to the\\nSeller after award of the Contract. Sellers are requested to submit their bids after accounting for the\\nConcessional rate of GST.\\nApplicable Concessional rate of GST : 5%\\nNotification No.and date : 47/2017 dated 14/11/2017\\n\\nThis Bid is also governed by the General Terms and Conditions\\n\\nIn terms of GeM GTC clause 26 regarding Restrictions on procurement from a bidder of a country which shares a land border with India, any bidder\\nfrom a country which shares a land border with India will be eligible to bid in this tender only if the bidder is registered with the Competent Authority.\\nWhile participating in bid, Bidder has to undertake compliance of this and any false declaration and non-compliance of this would be a ground for\\nimmediate termination of the contract and further legal action in accordance with the laws.\\n\\n---Thank You---\\n\\nPowered by TCPDF (www.tcpdf.org)\\n\\n                               3 / 3\\n\\n \\x0c\""
      ]
     },
     "execution_count": 7,
     "metadata": {},
     "output_type": "execute_result"
    }
   ],
   "source": [
    "result = text[1]\n",
    "result"
   ]
  },
  {
   "cell_type": "code",
   "execution_count": null,
   "metadata": {},
   "outputs": [],
   "source": []
  },
  {
   "cell_type": "code",
   "execution_count": 18,
   "metadata": {},
   "outputs": [
    {
     "name": "stdout",
     "output_type": "stream",
     "text": [
      " for category desktop computers \n",
      "\n",
      "1.as per notification of meity circulated vide letter no. f.no.33(1)/2017-iphw..dated :14/09/2017, the minimum\n",
      "local content should be 45.percent to qualify as local or domestic manufacturer.\\n\\nseller has to ensure that\n",
      "operating system software etc comes preloaded with machine from respective oem . any deviation in respect of\n",
      "genuinity and authenticity of os will attract severe penalty on part of seller as law of the land and contractual\n",
      "provisions. buyer are also requested to verify the key no of os etc with server of microsoft/linux before\n",
      "accepting machines to avoid complexity at latter stage.\n",
      "\n",
      "bid specific additional terms and conditions\n",
      "\n",
      "1.bidder's offer is liable to be rejected if they don't upload any of the certificates / documents sought in the bid\n",
      "\n",
      "document, atc and corrigendum if any.\n",
      "\n",
      "2.availability of service centres: bidder/oem must have a functional service centre in the state of each\n",
      "\n",
      "consignee's location in case of carry-in warranty. (not applicable in case of goods having on-site warranty). if\n",
      "service center is not already there at the time of bidding, successful bidder / oem shall have to establish one\n",
      "within 30 days of award of contract. payment shall be released only after submission of documentary evidence\n",
      "of having functional service centre.\n",
      "\n",
      "3.installation, commissioning, testing, configuration, training (if any - which ever is applicable as per scope of\n",
      "\n",
      "supply) is to be carried out by oem / oem certified resource or oem authorised reseller.\n",
      "\n",
      "4.malicious code certificate:\n",
      "\n",
      "the seller should upload following certificate in the bid:-\n",
      "(a) this is to certify that the hardware and the software being offered, as part of the contract, does not contain\n",
      "embedded malicious code that would activate procedures to :-\n",
      "  (i) inhibit the desires and designed function of the equipment.\n",
      "  (ii) cause physical damage to the user or equipment during the exploitation.\n",
      "  (iii) tap information resident or transient in the equipment/network.\n",
      "(b) the firm will be considered to be in breach of the procurement contract, in case physical damage, loss of\n",
      "information or infringements related to copyright and intellectual property right (iprs) are caused due to\n",
      "activation of any such malicious code in embedded software.\n",
      "\n",
      "5.the buyer organization is an institution eligible for concessional rates of gst as notified by the government of\n",
      "india. the goods for which bids have been invited fall under classification of gst concession and the conditions\n",
      "for eligibility of concession are met by the institution. a certificate to this effect will be issued by buyer to the\n",
      "seller after award of the contract. sellers are requested to submit their bids after accounting for the\n",
      "concessional rate of gst.\n",
      "applicable concessional rate of gst : 5%\n",
      "notification no.and date : 47/2017 dated 14/11/2017\n",
      "\n",
      "this bid is also governed by the general terms and conditions\n",
      "\n",
      "in terms of gem gtc clause 26 regarding restrictions on procurement from a bidder of a country which shares a land border with india, any bidder\n",
      "from a country which shares a land border with india will be eligible to bid in this tender only if the bidder is registered with the competent authority.\n",
      "while participating in bid, bidder has to undertake compliance of this and any false declaration and non-compliance of this would be a ground for\n",
      "immediate termination of the contract and further legal action in accordance with the laws.\n",
      "\n",
      "\n"
     ]
    }
   ],
   "source": [
    "data_needed = text[1].split('---thank you---')\n",
    "print(data_needed[0])"
   ]
  },
  {
   "cell_type": "code",
   "execution_count": null,
   "metadata": {},
   "outputs": [],
   "source": []
  }
 ],
 "metadata": {
  "kernelspec": {
   "display_name": "Python 3",
   "language": "python",
   "name": "python3"
  },
  "language_info": {
   "codemirror_mode": {
    "name": "ipython",
    "version": 3
   },
   "file_extension": ".py",
   "mimetype": "text/x-python",
   "name": "python",
   "nbconvert_exporter": "python",
   "pygments_lexer": "ipython3",
   "version": "3.8.3"
  }
 },
 "nbformat": 4,
 "nbformat_minor": 4
}

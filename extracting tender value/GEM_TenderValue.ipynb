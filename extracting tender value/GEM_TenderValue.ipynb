{
 "cells": [
  {
   "cell_type": "code",
   "execution_count": 1,
   "metadata": {},
   "outputs": [],
   "source": [
    "import camelot"
   ]
  },
  {
   "cell_type": "code",
   "execution_count": 9,
   "metadata": {},
   "outputs": [],
   "source": [
    "file = 'C:/Users/USER/Desktop/pdfss/280920064825GeMBidding1894273.pdf'"
   ]
  },
  {
   "cell_type": "code",
   "execution_count": 10,
   "metadata": {},
   "outputs": [
    {
     "data": {
      "text/html": [
       "<div>\n",
       "<style scoped>\n",
       "    .dataframe tbody tr th:only-of-type {\n",
       "        vertical-align: middle;\n",
       "    }\n",
       "\n",
       "    .dataframe tbody tr th {\n",
       "        vertical-align: top;\n",
       "    }\n",
       "\n",
       "    .dataframe thead th {\n",
       "        text-align: right;\n",
       "    }\n",
       "</style>\n",
       "<table border=\"1\" class=\"dataframe\">\n",
       "  <thead>\n",
       "    <tr style=\"text-align: right;\">\n",
       "      <th></th>\n",
       "      <th>0</th>\n",
       "      <th>1</th>\n",
       "    </tr>\n",
       "  </thead>\n",
       "  <tbody>\n",
       "    <tr>\n",
       "      <th>0</th>\n",
       "      <td>Bid Details</td>\n",
       "      <td></td>\n",
       "    </tr>\n",
       "    <tr>\n",
       "      <th>1</th>\n",
       "      <td>Bid End Date/Time</td>\n",
       "      <td>12-10-2020 11:00:00</td>\n",
       "    </tr>\n",
       "    <tr>\n",
       "      <th>2</th>\n",
       "      <td>Bid Opening Date/Time</td>\n",
       "      <td>12-10-2020 11:30:00</td>\n",
       "    </tr>\n",
       "    <tr>\n",
       "      <th>3</th>\n",
       "      <td>Bid Life Cycle (From Publish Date)</td>\n",
       "      <td>90 (Days)</td>\n",
       "    </tr>\n",
       "    <tr>\n",
       "      <th>4</th>\n",
       "      <td>Bid Offer Validity (From End Date)</td>\n",
       "      <td>30 (Days)</td>\n",
       "    </tr>\n",
       "    <tr>\n",
       "      <th>5</th>\n",
       "      <td>Ministry/State Name</td>\n",
       "      <td>Ministry Of Communications</td>\n",
       "    </tr>\n",
       "    <tr>\n",
       "      <th>6</th>\n",
       "      <td>Department Name</td>\n",
       "      <td>Department Of Telecommunications (dot)</td>\n",
       "    </tr>\n",
       "    <tr>\n",
       "      <th>7</th>\n",
       "      <td>Organisation Name</td>\n",
       "      <td>N/a</td>\n",
       "    </tr>\n",
       "    <tr>\n",
       "      <th>8</th>\n",
       "      <td>Office Name</td>\n",
       "      <td>Tamilnadu Lsa Coimbatore</td>\n",
       "    </tr>\n",
       "    <tr>\n",
       "      <th>9</th>\n",
       "      <td>Item Category</td>\n",
       "      <td>Human Resource Outsourcing Service</td>\n",
       "    </tr>\n",
       "    <tr>\n",
       "      <th>10</th>\n",
       "      <td>Contract Period</td>\n",
       "      <td>1 Year(s)</td>\n",
       "    </tr>\n",
       "    <tr>\n",
       "      <th>11</th>\n",
       "      <td>Project Experience Required</td>\n",
       "      <td>No</td>\n",
       "    </tr>\n",
       "    <tr>\n",
       "      <th>12</th>\n",
       "      <td>MSE Exemption for Years of Experience and\\nTur...</td>\n",
       "      <td>No</td>\n",
       "    </tr>\n",
       "    <tr>\n",
       "      <th>13</th>\n",
       "      <td>Startup Exemption for Years of Experience and\\...</td>\n",
       "      <td>No</td>\n",
       "    </tr>\n",
       "    <tr>\n",
       "      <th>14</th>\n",
       "      <td>Document required from seller</td>\n",
       "      <td>Certificate (Requested in ATC)\\n*In case any b...</td>\n",
       "    </tr>\n",
       "    <tr>\n",
       "      <th>15</th>\n",
       "      <td>Bid to RA enabled</td>\n",
       "      <td>No</td>\n",
       "    </tr>\n",
       "  </tbody>\n",
       "</table>\n",
       "</div>"
      ],
      "text/plain": [
       "                                                    0  \\\n",
       "0                                         Bid Details   \n",
       "1                                   Bid End Date/Time   \n",
       "2                               Bid Opening Date/Time   \n",
       "3                  Bid Life Cycle (From Publish Date)   \n",
       "4                  Bid Offer Validity (From End Date)   \n",
       "5                                 Ministry/State Name   \n",
       "6                                     Department Name   \n",
       "7                                   Organisation Name   \n",
       "8                                         Office Name   \n",
       "9                                       Item Category   \n",
       "10                                    Contract Period   \n",
       "11                        Project Experience Required   \n",
       "12  MSE Exemption for Years of Experience and\\nTur...   \n",
       "13  Startup Exemption for Years of Experience and\\...   \n",
       "14                      Document required from seller   \n",
       "15                                  Bid to RA enabled   \n",
       "\n",
       "                                                    1  \n",
       "0                                                      \n",
       "1                                 12-10-2020 11:00:00  \n",
       "2                                 12-10-2020 11:30:00  \n",
       "3                                           90 (Days)  \n",
       "4                                           30 (Days)  \n",
       "5                          Ministry Of Communications  \n",
       "6              Department Of Telecommunications (dot)  \n",
       "7                                                 N/a  \n",
       "8                            Tamilnadu Lsa Coimbatore  \n",
       "9                  Human Resource Outsourcing Service  \n",
       "10                                          1 Year(s)  \n",
       "11                                                 No  \n",
       "12                                                 No  \n",
       "13                                                 No  \n",
       "14  Certificate (Requested in ATC)\\n*In case any b...  \n",
       "15                                                 No  "
      ]
     },
     "execution_count": 10,
     "metadata": {},
     "output_type": "execute_result"
    }
   ],
   "source": [
    "data = camelot.read_pdf(file)\n",
    "data[0].df"
   ]
  },
  {
   "cell_type": "code",
   "execution_count": null,
   "metadata": {},
   "outputs": [],
   "source": []
  },
  {
   "cell_type": "code",
   "execution_count": 11,
   "metadata": {},
   "outputs": [
    {
     "data": {
      "text/html": [
       "<div>\n",
       "<style scoped>\n",
       "    .dataframe tbody tr th:only-of-type {\n",
       "        vertical-align: middle;\n",
       "    }\n",
       "\n",
       "    .dataframe tbody tr th {\n",
       "        vertical-align: top;\n",
       "    }\n",
       "\n",
       "    .dataframe thead th {\n",
       "        text-align: right;\n",
       "    }\n",
       "</style>\n",
       "<table border=\"1\" class=\"dataframe\">\n",
       "  <thead>\n",
       "    <tr style=\"text-align: right;\">\n",
       "      <th></th>\n",
       "      <th>0</th>\n",
       "      <th>1</th>\n",
       "    </tr>\n",
       "  </thead>\n",
       "  <tbody>\n",
       "  </tbody>\n",
       "</table>\n",
       "</div>"
      ],
      "text/plain": [
       "Empty DataFrame\n",
       "Columns: [0, 1]\n",
       "Index: []"
      ]
     },
     "execution_count": 11,
     "metadata": {},
     "output_type": "execute_result"
    }
   ],
   "source": [
    "page1 = data[0].df\n",
    "tender_value = page1[page1[0].str.contains('Estimated Bid Value')]\n",
    "tender_value"
   ]
  },
  {
   "cell_type": "code",
   "execution_count": 12,
   "metadata": {},
   "outputs": [
    {
     "data": {
      "text/plain": [
       "False"
      ]
     },
     "execution_count": 12,
     "metadata": {},
     "output_type": "execute_result"
    }
   ],
   "source": [
    "(tender_value[0] == 'Estimated Bid Value').any() == True"
   ]
  },
  {
   "cell_type": "code",
   "execution_count": 13,
   "metadata": {},
   "outputs": [
    {
     "data": {
      "text/plain": [
       "'Series([], )'"
      ]
     },
     "execution_count": 13,
     "metadata": {},
     "output_type": "execute_result"
    }
   ],
   "source": [
    "value = tender_value[1].to_string(index =False)\n",
    "value"
   ]
  },
  {
   "cell_type": "code",
   "execution_count": 25,
   "metadata": {},
   "outputs": [],
   "source": [
    "\n",
    "import pandas as pd\n",
    "pd.set_option('display.max_rows',None,'display.max_columns',None)"
   ]
  },
  {
   "cell_type": "code",
   "execution_count": 26,
   "metadata": {},
   "outputs": [],
   "source": [
    "document = page1[page1[0].str.contains('Document required from seller')]\n"
   ]
  },
  {
   "cell_type": "code",
   "execution_count": 34,
   "metadata": {},
   "outputs": [
    {
     "data": {
      "text/plain": [
       "'Certificate (Requested in ATC)\\n*In case any bidder is seeking exemption from Experience /\\nTurnover Criteria, the supporting documents to prove his\\neligibility for exemption must be uploaded for evaluation by the\\nbuyer'"
      ]
     },
     "execution_count": 34,
     "metadata": {},
     "output_type": "execute_result"
    }
   ],
   "source": [
    "document.iloc[0,1]"
   ]
  },
  {
   "cell_type": "code",
   "execution_count": 32,
   "metadata": {},
   "outputs": [
    {
     "name": "stdout",
     "output_type": "stream",
     "text": [
      " Certificate (Requested in ATC)\\n*In case any b...\n"
     ]
    }
   ],
   "source": [
    "print(document[1].to_string(index =False))"
   ]
  },
  {
   "cell_type": "code",
   "execution_count": 36,
   "metadata": {},
   "outputs": [
    {
     "data": {
      "text/plain": [
       "'Certificate (Requested in ATC)\\n*In case any bidder is seeking exemption from Experience /\\nTurnover Criteria, the supporting documents to prove his\\neligibility for exemption must be uploaded for evaluation by the\\nbuyer'"
      ]
     },
     "execution_count": 36,
     "metadata": {},
     "output_type": "execute_result"
    }
   ],
   "source": [
    "document = page1[page1[0].str.contains('Document required from seller')]\n",
    "                    \n",
    "result = document.iloc[0,1]\n",
    "result"
   ]
  },
  {
   "cell_type": "code",
   "execution_count": null,
   "metadata": {},
   "outputs": [],
   "source": []
  }
 ],
 "metadata": {
  "kernelspec": {
   "display_name": "Python 3",
   "language": "python",
   "name": "python3"
  },
  "language_info": {
   "codemirror_mode": {
    "name": "ipython",
    "version": 3
   },
   "file_extension": ".py",
   "mimetype": "text/x-python",
   "name": "python",
   "nbconvert_exporter": "python",
   "pygments_lexer": "ipython3",
   "version": "3.8.3"
  }
 },
 "nbformat": 4,
 "nbformat_minor": 4
}

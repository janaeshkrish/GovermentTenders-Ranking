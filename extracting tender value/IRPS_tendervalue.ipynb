{
 "cells": [
  {
   "cell_type": "code",
   "execution_count": 1,
   "metadata": {},
   "outputs": [],
   "source": [
    "import camelot"
   ]
  },
  {
   "cell_type": "code",
   "execution_count": 2,
   "metadata": {},
   "outputs": [],
   "source": [
    "file_name = '70635612.pdf'"
   ]
  },
  {
   "cell_type": "code",
   "execution_count": 3,
   "metadata": {},
   "outputs": [
    {
     "data": {
      "text/plain": [
       "<TableList n=3>"
      ]
     },
     "execution_count": 3,
     "metadata": {},
     "output_type": "execute_result"
    }
   ],
   "source": [
    "data = camelot.read_pdf(file_name, pages = \"1\")\n",
    "data"
   ]
  },
  {
   "cell_type": "code",
   "execution_count": 4,
   "metadata": {},
   "outputs": [
    {
     "data": {
      "text/html": [
       "<div>\n",
       "<style scoped>\n",
       "    .dataframe tbody tr th:only-of-type {\n",
       "        vertical-align: middle;\n",
       "    }\n",
       "\n",
       "    .dataframe tbody tr th {\n",
       "        vertical-align: top;\n",
       "    }\n",
       "\n",
       "    .dataframe thead th {\n",
       "        text-align: right;\n",
       "    }\n",
       "</style>\n",
       "<table border=\"1\" class=\"dataframe\">\n",
       "  <thead>\n",
       "    <tr style=\"text-align: right;\">\n",
       "      <th></th>\n",
       "      <th>0</th>\n",
       "      <th>1</th>\n",
       "      <th>2</th>\n",
       "      <th>3</th>\n",
       "    </tr>\n",
       "  </thead>\n",
       "  <tbody>\n",
       "    <tr>\n",
       "      <th>0</th>\n",
       "      <td>Name of Work</td>\n",
       "      <td>Augmentation of the existing Telecommunication...</td>\n",
       "      <td></td>\n",
       "      <td></td>\n",
       "    </tr>\n",
       "    <tr>\n",
       "      <th>1</th>\n",
       "      <td>Bidding type</td>\n",
       "      <td>Normal Tender</td>\n",
       "      <td></td>\n",
       "      <td></td>\n",
       "    </tr>\n",
       "    <tr>\n",
       "      <th>2</th>\n",
       "      <td>Tender Type</td>\n",
       "      <td>Open</td>\n",
       "      <td>Bidding System</td>\n",
       "      <td>Single Packet System</td>\n",
       "    </tr>\n",
       "    <tr>\n",
       "      <th>3</th>\n",
       "      <td>Tender Closing Date Time</td>\n",
       "      <td>15/01/2021 15:00</td>\n",
       "      <td>Date Time Of Uploading Tender</td>\n",
       "      <td>15/12/2020 22:06</td>\n",
       "    </tr>\n",
       "    <tr>\n",
       "      <th>4</th>\n",
       "      <td>Pre-Bid Conference\\nRequired</td>\n",
       "      <td>No</td>\n",
       "      <td>Pre-Bid Conference Date Time</td>\n",
       "      <td>Not Applicable</td>\n",
       "    </tr>\n",
       "    <tr>\n",
       "      <th>5</th>\n",
       "      <td>Advertised Value</td>\n",
       "      <td>45700867.16</td>\n",
       "      <td>Tendering Section</td>\n",
       "      <td>TENDERS</td>\n",
       "    </tr>\n",
       "    <tr>\n",
       "      <th>6</th>\n",
       "      <td>Bidding Style</td>\n",
       "      <td>[ Decision at Schedule level ]</td>\n",
       "      <td>Bidding Unit</td>\n",
       "      <td></td>\n",
       "    </tr>\n",
       "    <tr>\n",
       "      <th>7</th>\n",
       "      <td>Earnest Money /Bid Security\\n(Rs.)</td>\n",
       "      <td>378500.00</td>\n",
       "      <td>Validity of Offer ( Days)</td>\n",
       "      <td>45</td>\n",
       "    </tr>\n",
       "    <tr>\n",
       "      <th>8</th>\n",
       "      <td>Tender Doc. Cost (Rs.)</td>\n",
       "      <td>0.00</td>\n",
       "      <td>Period of Completion</td>\n",
       "      <td>18 Months</td>\n",
       "    </tr>\n",
       "    <tr>\n",
       "      <th>9</th>\n",
       "      <td>Contract Type</td>\n",
       "      <td>Works</td>\n",
       "      <td>Contract Category</td>\n",
       "      <td>Expenditure</td>\n",
       "    </tr>\n",
       "    <tr>\n",
       "      <th>10</th>\n",
       "      <td>Bidding Start Date</td>\n",
       "      <td>01/01/2021</td>\n",
       "      <td>Are Joint Venture (JV) firms\\nallowed to bid</td>\n",
       "      <td>No</td>\n",
       "    </tr>\n",
       "    <tr>\n",
       "      <th>11</th>\n",
       "      <td>Ranking Order For Bids</td>\n",
       "      <td>Lowest to Highest</td>\n",
       "      <td>Expenditure Type</td>\n",
       "      <td>Capital (Works)</td>\n",
       "    </tr>\n",
       "  </tbody>\n",
       "</table>\n",
       "</div>"
      ],
      "text/plain": [
       "                                     0  \\\n",
       "0                         Name of Work   \n",
       "1                         Bidding type   \n",
       "2                          Tender Type   \n",
       "3             Tender Closing Date Time   \n",
       "4         Pre-Bid Conference\\nRequired   \n",
       "5                     Advertised Value   \n",
       "6                        Bidding Style   \n",
       "7   Earnest Money /Bid Security\\n(Rs.)   \n",
       "8               Tender Doc. Cost (Rs.)   \n",
       "9                        Contract Type   \n",
       "10                  Bidding Start Date   \n",
       "11              Ranking Order For Bids   \n",
       "\n",
       "                                                    1  \\\n",
       "0   Augmentation of the existing Telecommunication...   \n",
       "1                                       Normal Tender   \n",
       "2                                                Open   \n",
       "3                                    15/01/2021 15:00   \n",
       "4                                                  No   \n",
       "5                                         45700867.16   \n",
       "6                      [ Decision at Schedule level ]   \n",
       "7                                           378500.00   \n",
       "8                                                0.00   \n",
       "9                                               Works   \n",
       "10                                         01/01/2021   \n",
       "11                                  Lowest to Highest   \n",
       "\n",
       "                                               2                     3  \n",
       "0                                                                       \n",
       "1                                                                       \n",
       "2                                 Bidding System  Single Packet System  \n",
       "3                  Date Time Of Uploading Tender      15/12/2020 22:06  \n",
       "4                   Pre-Bid Conference Date Time        Not Applicable  \n",
       "5                              Tendering Section               TENDERS  \n",
       "6                                   Bidding Unit                        \n",
       "7                      Validity of Offer ( Days)                    45  \n",
       "8                           Period of Completion             18 Months  \n",
       "9                              Contract Category           Expenditure  \n",
       "10  Are Joint Venture (JV) firms\\nallowed to bid                    No  \n",
       "11                              Expenditure Type       Capital (Works)  "
      ]
     },
     "execution_count": 4,
     "metadata": {},
     "output_type": "execute_result"
    }
   ],
   "source": [
    "#Getting first table \n",
    "page1 = data[0].df\n",
    "page1"
   ]
  },
  {
   "cell_type": "code",
   "execution_count": 5,
   "metadata": {},
   "outputs": [
    {
     "data": {
      "text/html": [
       "<div>\n",
       "<style scoped>\n",
       "    .dataframe tbody tr th:only-of-type {\n",
       "        vertical-align: middle;\n",
       "    }\n",
       "\n",
       "    .dataframe tbody tr th {\n",
       "        vertical-align: top;\n",
       "    }\n",
       "\n",
       "    .dataframe thead th {\n",
       "        text-align: right;\n",
       "    }\n",
       "</style>\n",
       "<table border=\"1\" class=\"dataframe\">\n",
       "  <thead>\n",
       "    <tr style=\"text-align: right;\">\n",
       "      <th></th>\n",
       "      <th>0</th>\n",
       "      <th>1</th>\n",
       "      <th>2</th>\n",
       "      <th>3</th>\n",
       "    </tr>\n",
       "  </thead>\n",
       "  <tbody>\n",
       "    <tr>\n",
       "      <th>5</th>\n",
       "      <td>Advertised Value</td>\n",
       "      <td>45700867.16</td>\n",
       "      <td>Tendering Section</td>\n",
       "      <td>TENDERS</td>\n",
       "    </tr>\n",
       "  </tbody>\n",
       "</table>\n",
       "</div>"
      ],
      "text/plain": [
       "                  0            1                  2        3\n",
       "5  Advertised Value  45700867.16  Tendering Section  TENDERS"
      ]
     },
     "execution_count": 5,
     "metadata": {},
     "output_type": "execute_result"
    }
   ],
   "source": [
    "advertised_value = page1[page1[0].str.contains(\"Advertised Value\")]\n",
    "advertised_value"
   ]
  },
  {
   "cell_type": "code",
   "execution_count": 6,
   "metadata": {},
   "outputs": [
    {
     "data": {
      "text/plain": [
       "5    45700867.16\n",
       "Name: 1, dtype: object"
      ]
     },
     "execution_count": 6,
     "metadata": {},
     "output_type": "execute_result"
    }
   ],
   "source": [
    "value = advertised_value[1]\n",
    "value"
   ]
  },
  {
   "cell_type": "code",
   "execution_count": 7,
   "metadata": {},
   "outputs": [
    {
     "data": {
      "text/plain": [
       "45700867"
      ]
     },
     "execution_count": 7,
     "metadata": {},
     "output_type": "execute_result"
    }
   ],
   "source": [
    "value = float(value)\n",
    "int(value)"
   ]
  },
  {
   "cell_type": "code",
   "execution_count": null,
   "metadata": {},
   "outputs": [],
   "source": []
  }
 ],
 "metadata": {
  "kernelspec": {
   "display_name": "Python 3",
   "language": "python",
   "name": "python3"
  },
  "language_info": {
   "codemirror_mode": {
    "name": "ipython",
    "version": 3
   },
   "file_extension": ".py",
   "mimetype": "text/x-python",
   "name": "python",
   "nbconvert_exporter": "python",
   "pygments_lexer": "ipython3",
   "version": "3.8.3"
  }
 },
 "nbformat": 4,
 "nbformat_minor": 4
}

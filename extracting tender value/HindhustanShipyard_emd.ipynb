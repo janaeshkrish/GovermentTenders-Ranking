{
 "cells": [
  {
   "cell_type": "code",
   "execution_count": 2,
   "metadata": {},
   "outputs": [],
   "source": [
    "#file:///C:/Users/USER/AppData/Local/Temp/Temp1_Formats.zip/Formats/67972423.pdf"
   ]
  },
  {
   "cell_type": "code",
   "execution_count": 19,
   "metadata": {},
   "outputs": [],
   "source": [
    "import pandas as pd\n",
    "import camelot"
   ]
  },
  {
   "cell_type": "code",
   "execution_count": 20,
   "metadata": {},
   "outputs": [],
   "source": [
    "file_name = r'C:/Users/USER/Desktop/pdfss/67972423.pdf'"
   ]
  },
  {
   "cell_type": "code",
   "execution_count": 28,
   "metadata": {},
   "outputs": [
    {
     "data": {
      "text/plain": [
       "<TableList n=1>"
      ]
     },
     "execution_count": 28,
     "metadata": {},
     "output_type": "execute_result"
    }
   ],
   "source": [
    "data = camelot.read_pdf(file_name, pages = \"1\")\n",
    "data"
   ]
  },
  {
   "cell_type": "code",
   "execution_count": 30,
   "metadata": {},
   "outputs": [
    {
     "data": {
      "text/html": [
       "<div>\n",
       "<style scoped>\n",
       "    .dataframe tbody tr th:only-of-type {\n",
       "        vertical-align: middle;\n",
       "    }\n",
       "\n",
       "    .dataframe tbody tr th {\n",
       "        vertical-align: top;\n",
       "    }\n",
       "\n",
       "    .dataframe thead th {\n",
       "        text-align: right;\n",
       "    }\n",
       "</style>\n",
       "<table border=\"1\" class=\"dataframe\">\n",
       "  <thead>\n",
       "    <tr style=\"text-align: right;\">\n",
       "      <th></th>\n",
       "      <th>0</th>\n",
       "      <th>1</th>\n",
       "      <th>2</th>\n",
       "    </tr>\n",
       "  </thead>\n",
       "  <tbody>\n",
       "    <tr>\n",
       "      <th>0</th>\n",
       "      <td>1</td>\n",
       "      <td>Organization</td>\n",
       "      <td>Hindustan Shipyard Limited</td>\n",
       "    </tr>\n",
       "    <tr>\n",
       "      <th>1</th>\n",
       "      <td>2</td>\n",
       "      <td>Department</td>\n",
       "      <td>Purchase Department</td>\n",
       "    </tr>\n",
       "    <tr>\n",
       "      <th>2</th>\n",
       "      <td>3</td>\n",
       "      <td>Tender  Reference</td>\n",
       "      <td>MP/3400000333/20-21 dated 09 Oct 2020</td>\n",
       "    </tr>\n",
       "    <tr>\n",
       "      <th>3</th>\n",
       "      <td>4</td>\n",
       "      <td>Name  of Material</td>\n",
       "      <td>PROCUREMENT 15T CRANE FOR VC- 11190-91</td>\n",
       "    </tr>\n",
       "    <tr>\n",
       "      <th>4</th>\n",
       "      <td>5</td>\n",
       "      <td>Type Of Quotation</td>\n",
       "      <td>Two cover system  \\nPart-I  (Techno-commercial...</td>\n",
       "    </tr>\n",
       "    <tr>\n",
       "      <th>5</th>\n",
       "      <td>6</td>\n",
       "      <td>Type of Bidding Type</td>\n",
       "      <td>GLOBAL TENDER</td>\n",
       "    </tr>\n",
       "    <tr>\n",
       "      <th>6</th>\n",
       "      <td>7</td>\n",
       "      <td>Bid  Validity</td>\n",
       "      <td>180 days</td>\n",
       "    </tr>\n",
       "    <tr>\n",
       "      <th>7</th>\n",
       "      <td>8</td>\n",
       "      <td>Pre-bid meeting date</td>\n",
       "      <td>1000hrs on 22 Oct 2020</td>\n",
       "    </tr>\n",
       "    <tr>\n",
       "      <th>8</th>\n",
       "      <td>9</td>\n",
       "      <td>Bid Submission end date</td>\n",
       "      <td>1100 hrs on  30 Oct 2020</td>\n",
       "    </tr>\n",
       "    <tr>\n",
       "      <th>9</th>\n",
       "      <td>10</td>\n",
       "      <td>Officer inviting bids</td>\n",
       "      <td>DGM (Purchase)</td>\n",
       "    </tr>\n",
       "    <tr>\n",
       "      <th>10</th>\n",
       "      <td>11</td>\n",
       "      <td>Bid opening authority</td>\n",
       "      <td>General Manager (Commercial)</td>\n",
       "    </tr>\n",
       "    <tr>\n",
       "      <th>11</th>\n",
       "      <td>12</td>\n",
       "      <td>Address</td>\n",
       "      <td>Hindustan Shipyard Limited, Gandhigram, \\nVisa...</td>\n",
       "    </tr>\n",
       "    <tr>\n",
       "      <th>12</th>\n",
       "      <td>13</td>\n",
       "      <td>Contact details</td>\n",
       "      <td>D.L.Madhavi \\nM (Purchase) \\nMob. 9493792072 \\...</td>\n",
       "    </tr>\n",
       "    <tr>\n",
       "      <th>13</th>\n",
       "      <td>14</td>\n",
       "      <td>Technical clarifications</td>\n",
       "      <td>Mr.Mithilesh \\nDGM (OD) \\nMob. 9493792251 \\nEm...</td>\n",
       "    </tr>\n",
       "    <tr>\n",
       "      <th>14</th>\n",
       "      <td>15</td>\n",
       "      <td>Technical support on e-portal</td>\n",
       "      <td>M.M.G Basha Raja \\nMob. 7799922008 \\nEmail. ep...</td>\n",
       "    </tr>\n",
       "    <tr>\n",
       "      <th>15</th>\n",
       "      <td>16</td>\n",
       "      <td>Tender FEE(Non- Refundable)</td>\n",
       "      <td>Rs.1770/- \\na) \\n(with GST) by way of demand d...</td>\n",
       "    </tr>\n",
       "  </tbody>\n",
       "</table>\n",
       "</div>"
      ],
      "text/plain": [
       "     0                              1  \\\n",
       "0    1                   Organization   \n",
       "1    2                     Department   \n",
       "2    3              Tender  Reference   \n",
       "3    4              Name  of Material   \n",
       "4    5              Type Of Quotation   \n",
       "5    6           Type of Bidding Type   \n",
       "6    7                  Bid  Validity   \n",
       "7    8           Pre-bid meeting date   \n",
       "8    9        Bid Submission end date   \n",
       "9   10          Officer inviting bids   \n",
       "10  11          Bid opening authority   \n",
       "11  12                        Address   \n",
       "12  13                Contact details   \n",
       "13  14       Technical clarifications   \n",
       "14  15  Technical support on e-portal   \n",
       "15  16    Tender FEE(Non- Refundable)   \n",
       "\n",
       "                                                    2  \n",
       "0                          Hindustan Shipyard Limited  \n",
       "1                                 Purchase Department  \n",
       "2               MP/3400000333/20-21 dated 09 Oct 2020  \n",
       "3              PROCUREMENT 15T CRANE FOR VC- 11190-91  \n",
       "4   Two cover system  \\nPart-I  (Techno-commercial...  \n",
       "5                                       GLOBAL TENDER  \n",
       "6                                            180 days  \n",
       "7                              1000hrs on 22 Oct 2020  \n",
       "8                            1100 hrs on  30 Oct 2020  \n",
       "9                                      DGM (Purchase)  \n",
       "10                       General Manager (Commercial)  \n",
       "11  Hindustan Shipyard Limited, Gandhigram, \\nVisa...  \n",
       "12  D.L.Madhavi \\nM (Purchase) \\nMob. 9493792072 \\...  \n",
       "13  Mr.Mithilesh \\nDGM (OD) \\nMob. 9493792251 \\nEm...  \n",
       "14  M.M.G Basha Raja \\nMob. 7799922008 \\nEmail. ep...  \n",
       "15  Rs.1770/- \\na) \\n(with GST) by way of demand d...  "
      ]
     },
     "execution_count": 30,
     "metadata": {},
     "output_type": "execute_result"
    }
   ],
   "source": [
    "page1 = data[0].df\n",
    "page1"
   ]
  },
  {
   "cell_type": "code",
   "execution_count": 32,
   "metadata": {},
   "outputs": [
    {
     "data": {
      "text/plain": [
       "0     False\n",
       "1     False\n",
       "2     False\n",
       "3     False\n",
       "4     False\n",
       "5      True\n",
       "6     False\n",
       "7     False\n",
       "8     False\n",
       "9     False\n",
       "10    False\n",
       "11    False\n",
       "12    False\n",
       "13    False\n",
       "14    False\n",
       "15    False\n",
       "Name: 1, dtype: bool"
      ]
     },
     "execution_count": 32,
     "metadata": {},
     "output_type": "execute_result"
    }
   ],
   "source": [
    "page1[1] == 'Type of Bidding Type'"
   ]
  },
  {
   "cell_type": "code",
   "execution_count": 35,
   "metadata": {},
   "outputs": [
    {
     "data": {
      "text/plain": [
       "True"
      ]
     },
     "execution_count": 35,
     "metadata": {},
     "output_type": "execute_result"
    }
   ],
   "source": [
    "page1[1].str.contains('Type of Bidding Type').any() ==True"
   ]
  },
  {
   "cell_type": "code",
   "execution_count": 34,
   "metadata": {},
   "outputs": [
    {
     "data": {
      "text/plain": [
       "5    GLOBAL TENDER\n",
       "Name: 2, dtype: object"
      ]
     },
     "execution_count": 34,
     "metadata": {},
     "output_type": "execute_result"
    }
   ],
   "source": [
    "advertised_value = page1[page1[1].str.contains('Type of Bidding Type')]\n",
    "advertised_value[2]"
   ]
  },
  {
   "cell_type": "code",
   "execution_count": 36,
   "metadata": {},
   "outputs": [
    {
     "data": {
      "text/plain": [
       "'5    GLOBAL TENDER'"
      ]
     },
     "execution_count": 36,
     "metadata": {},
     "output_type": "execute_result"
    }
   ],
   "source": [
    "advertised_value[2].to_string(index=True)"
   ]
  },
  {
   "cell_type": "code",
   "execution_count": 22,
   "metadata": {},
   "outputs": [
    {
     "name": "stdout",
     "output_type": "stream",
     "text": [
      " a.Rs.1,00,000/-  by  way  of  demand  draft  i...\n",
      "false\n"
     ]
    }
   ],
   "source": [
    "for i in range(0,no_of_tables):\n",
    "    \n",
    "    try:\n",
    "        \n",
    "        datas = data[i].df\n",
    "        \n",
    "        if datas[1].str.contains('EMD Fee').any() == True:\n",
    "            \n",
    "            value = datas.loc[datas[1].str.contains('EMD Fee')]\n",
    "            \n",
    "            result = value[2].to_string(index=False)\n",
    "            \n",
    "            print(result)\n",
    "            \n",
    "    except Exception:\n",
    "        \n",
    "        print('false')"
   ]
  },
  {
   "cell_type": "code",
   "execution_count": 23,
   "metadata": {},
   "outputs": [
    {
     "data": {
      "text/html": [
       "<div>\n",
       "<style scoped>\n",
       "    .dataframe tbody tr th:only-of-type {\n",
       "        vertical-align: middle;\n",
       "    }\n",
       "\n",
       "    .dataframe tbody tr th {\n",
       "        vertical-align: top;\n",
       "    }\n",
       "\n",
       "    .dataframe thead th {\n",
       "        text-align: right;\n",
       "    }\n",
       "</style>\n",
       "<table border=\"1\" class=\"dataframe\">\n",
       "  <thead>\n",
       "    <tr style=\"text-align: right;\">\n",
       "      <th></th>\n",
       "      <th>0</th>\n",
       "      <th>1</th>\n",
       "      <th>2</th>\n",
       "    </tr>\n",
       "  </thead>\n",
       "  <tbody>\n",
       "    <tr>\n",
       "      <th>0</th>\n",
       "      <td></td>\n",
       "      <td></td>\n",
       "      <td>http://www.hslvizag.in/hslpgi.aspx</td>\n",
       "    </tr>\n",
       "    <tr>\n",
       "      <th>1</th>\n",
       "      <td>17</td>\n",
       "      <td>Performance Bank Guarantee</td>\n",
       "      <td>Bank Guarantee for 10% of the contract value s...</td>\n",
       "    </tr>\n",
       "    <tr>\n",
       "      <th>2</th>\n",
       "      <td>18</td>\n",
       "      <td>EMD Fee</td>\n",
       "      <td>a.Rs.1,00,000/-  by  way  of  demand  draft  i...</td>\n",
       "    </tr>\n",
       "    <tr>\n",
       "      <th>3</th>\n",
       "      <td></td>\n",
       "      <td></td>\n",
       "      <td>b. Firms having valid HSL registration for Sim...</td>\n",
       "    </tr>\n",
       "    <tr>\n",
       "      <th>4</th>\n",
       "      <td>NOTE: Screen shot of tender fee and EMD fee su...</td>\n",
       "      <td></td>\n",
       "      <td></td>\n",
       "    </tr>\n",
       "  </tbody>\n",
       "</table>\n",
       "</div>"
      ],
      "text/plain": [
       "                                                   0  \\\n",
       "0                                                      \n",
       "1                                                 17   \n",
       "2                                                 18   \n",
       "3                                                      \n",
       "4  NOTE: Screen shot of tender fee and EMD fee su...   \n",
       "\n",
       "                            1  \\\n",
       "0                               \n",
       "1  Performance Bank Guarantee   \n",
       "2                     EMD Fee   \n",
       "3                               \n",
       "4                               \n",
       "\n",
       "                                                   2  \n",
       "0                 http://www.hslvizag.in/hslpgi.aspx  \n",
       "1  Bank Guarantee for 10% of the contract value s...  \n",
       "2  a.Rs.1,00,000/-  by  way  of  demand  draft  i...  \n",
       "3  b. Firms having valid HSL registration for Sim...  \n",
       "4                                                     "
      ]
     },
     "execution_count": 23,
     "metadata": {},
     "output_type": "execute_result"
    }
   ],
   "source": [
    "datas = data[1].df\n",
    "datas"
   ]
  },
  {
   "cell_type": "code",
   "execution_count": 24,
   "metadata": {},
   "outputs": [
    {
     "data": {
      "text/html": [
       "<div>\n",
       "<style scoped>\n",
       "    .dataframe tbody tr th:only-of-type {\n",
       "        vertical-align: middle;\n",
       "    }\n",
       "\n",
       "    .dataframe tbody tr th {\n",
       "        vertical-align: top;\n",
       "    }\n",
       "\n",
       "    .dataframe thead th {\n",
       "        text-align: right;\n",
       "    }\n",
       "</style>\n",
       "<table border=\"1\" class=\"dataframe\">\n",
       "  <thead>\n",
       "    <tr style=\"text-align: right;\">\n",
       "      <th></th>\n",
       "      <th>0</th>\n",
       "      <th>1</th>\n",
       "      <th>2</th>\n",
       "    </tr>\n",
       "  </thead>\n",
       "  <tbody>\n",
       "    <tr>\n",
       "      <th>2</th>\n",
       "      <td>18</td>\n",
       "      <td>EMD Fee</td>\n",
       "      <td>a.Rs.1,00,000/-  by  way  of  demand  draft  i...</td>\n",
       "    </tr>\n",
       "  </tbody>\n",
       "</table>\n",
       "</div>"
      ],
      "text/plain": [
       "    0        1                                                  2\n",
       "2  18  EMD Fee  a.Rs.1,00,000/-  by  way  of  demand  draft  i..."
      ]
     },
     "execution_count": 24,
     "metadata": {},
     "output_type": "execute_result"
    }
   ],
   "source": [
    "value = datas.loc[datas[1].str.contains('EMD Fee')]\n",
    "value"
   ]
  },
  {
   "cell_type": "code",
   "execution_count": 25,
   "metadata": {},
   "outputs": [
    {
     "name": "stdout",
     "output_type": "stream",
     "text": [
      " a.Rs.1,00,000/-  by  way  of  demand  draft  i...\n"
     ]
    }
   ],
   "source": [
    "print(value[2].to_string(index=False))"
   ]
  },
  {
   "cell_type": "code",
   "execution_count": 26,
   "metadata": {},
   "outputs": [
    {
     "data": {
      "text/plain": [
       "True"
      ]
     },
     "execution_count": 26,
     "metadata": {},
     "output_type": "execute_result"
    }
   ],
   "source": [
    "datas[1].str.contains('EMD Fee').any() == True"
   ]
  },
  {
   "cell_type": "code",
   "execution_count": null,
   "metadata": {},
   "outputs": [],
   "source": []
  }
 ],
 "metadata": {
  "kernelspec": {
   "display_name": "Python 3",
   "language": "python",
   "name": "python3"
  },
  "language_info": {
   "codemirror_mode": {
    "name": "ipython",
    "version": 3
   },
   "file_extension": ".py",
   "mimetype": "text/x-python",
   "name": "python",
   "nbconvert_exporter": "python",
   "pygments_lexer": "ipython3",
   "version": "3.8.3"
  }
 },
 "nbformat": 4,
 "nbformat_minor": 4
}

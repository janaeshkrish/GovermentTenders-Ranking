{
 "cells": [
  {
   "cell_type": "code",
   "execution_count": 1,
   "metadata": {},
   "outputs": [],
   "source": [
    "import camelot"
   ]
  },
  {
   "cell_type": "code",
   "execution_count": 2,
   "metadata": {},
   "outputs": [],
   "source": [
    "file = 'GeM-Bidding-1999073.pdf'"
   ]
  },
  {
   "cell_type": "code",
   "execution_count": 3,
   "metadata": {},
   "outputs": [
    {
     "data": {
      "text/plain": [
       "<TableList n=2>"
      ]
     },
     "execution_count": 3,
     "metadata": {},
     "output_type": "execute_result"
    }
   ],
   "source": [
    "data = camelot.read_pdf(file,page='1')\n",
    "data"
   ]
  },
  {
   "cell_type": "code",
   "execution_count": 4,
   "metadata": {},
   "outputs": [
    {
     "data": {
      "text/html": [
       "<div>\n",
       "<style scoped>\n",
       "    .dataframe tbody tr th:only-of-type {\n",
       "        vertical-align: middle;\n",
       "    }\n",
       "\n",
       "    .dataframe tbody tr th {\n",
       "        vertical-align: top;\n",
       "    }\n",
       "\n",
       "    .dataframe thead th {\n",
       "        text-align: right;\n",
       "    }\n",
       "</style>\n",
       "<table border=\"1\" class=\"dataframe\">\n",
       "  <thead>\n",
       "    <tr style=\"text-align: right;\">\n",
       "      <th></th>\n",
       "      <th>0</th>\n",
       "      <th>1</th>\n",
       "    </tr>\n",
       "  </thead>\n",
       "  <tbody>\n",
       "    <tr>\n",
       "      <th>0</th>\n",
       "      <td>Bid Details</td>\n",
       "      <td></td>\n",
       "    </tr>\n",
       "    <tr>\n",
       "      <th>1</th>\n",
       "      <td>Bid End Date/Time</td>\n",
       "      <td>14-12-2020 19:00:00</td>\n",
       "    </tr>\n",
       "    <tr>\n",
       "      <th>2</th>\n",
       "      <td>Bid Opening Date/Time</td>\n",
       "      <td>14-12-2020 19:30:00</td>\n",
       "    </tr>\n",
       "    <tr>\n",
       "      <th>3</th>\n",
       "      <td>Bid Life Cycle (From Publish Date)</td>\n",
       "      <td>90 (Days)</td>\n",
       "    </tr>\n",
       "    <tr>\n",
       "      <th>4</th>\n",
       "      <td>Bid Offer Validity (From End Date)</td>\n",
       "      <td>60 (Days)</td>\n",
       "    </tr>\n",
       "    <tr>\n",
       "      <th>5</th>\n",
       "      <td>Ministry/State Name</td>\n",
       "      <td>Ministry Of Civil Aviation</td>\n",
       "    </tr>\n",
       "    <tr>\n",
       "      <th>6</th>\n",
       "      <td>Department Name</td>\n",
       "      <td>Airports Authority Of India (aai)</td>\n",
       "    </tr>\n",
       "    <tr>\n",
       "      <th>7</th>\n",
       "      <td>Organisation Name</td>\n",
       "      <td>Airports Authority Of India</td>\n",
       "    </tr>\n",
       "    <tr>\n",
       "      <th>8</th>\n",
       "      <td>Office Name</td>\n",
       "      <td>Airports Authority Of India Chennai Airport</td>\n",
       "    </tr>\n",
       "    <tr>\n",
       "      <th>9</th>\n",
       "      <td>Total Quantity</td>\n",
       "      <td>21</td>\n",
       "    </tr>\n",
       "    <tr>\n",
       "      <th>10</th>\n",
       "      <td>Item Category</td>\n",
       "      <td>All in One PC</td>\n",
       "    </tr>\n",
       "    <tr>\n",
       "      <th>11</th>\n",
       "      <td>Bidder Turnover (Last 3 Years)</td>\n",
       "      <td>9 Lakh (s)</td>\n",
       "    </tr>\n",
       "    <tr>\n",
       "      <th>12</th>\n",
       "      <td>OEM Average Turnover (Last 3 Years)</td>\n",
       "      <td>72 Lakh (s)</td>\n",
       "    </tr>\n",
       "    <tr>\n",
       "      <th>13</th>\n",
       "      <td>Experience Criteria</td>\n",
       "      <td>3 Year (s)</td>\n",
       "    </tr>\n",
       "    <tr>\n",
       "      <th>14</th>\n",
       "      <td>MSE Exemption for Years of Experience and\\nTur...</td>\n",
       "      <td>No</td>\n",
       "    </tr>\n",
       "    <tr>\n",
       "      <th>15</th>\n",
       "      <td>Startup Exemption for Years of Experience and\\...</td>\n",
       "      <td>No</td>\n",
       "    </tr>\n",
       "    <tr>\n",
       "      <th>16</th>\n",
       "      <td>Document required from seller</td>\n",
       "      <td>Experience Criteria,Past Performance,Bidder Tu...</td>\n",
       "    </tr>\n",
       "    <tr>\n",
       "      <th>17</th>\n",
       "      <td>Past Performance</td>\n",
       "      <td>80 %</td>\n",
       "    </tr>\n",
       "    <tr>\n",
       "      <th>18</th>\n",
       "      <td>Bid to RA enabled</td>\n",
       "      <td>Yes</td>\n",
       "    </tr>\n",
       "    <tr>\n",
       "      <th>19</th>\n",
       "      <td>Primary product category</td>\n",
       "      <td>All in One PC</td>\n",
       "    </tr>\n",
       "    <tr>\n",
       "      <th>20</th>\n",
       "      <td>Inspection Required</td>\n",
       "      <td>No</td>\n",
       "    </tr>\n",
       "    <tr>\n",
       "      <th>21</th>\n",
       "      <td>Estimated Bid Value</td>\n",
       "      <td>1823380</td>\n",
       "    </tr>\n",
       "  </tbody>\n",
       "</table>\n",
       "</div>"
      ],
      "text/plain": [
       "                                                    0  \\\n",
       "0                                         Bid Details   \n",
       "1                                   Bid End Date/Time   \n",
       "2                               Bid Opening Date/Time   \n",
       "3                  Bid Life Cycle (From Publish Date)   \n",
       "4                  Bid Offer Validity (From End Date)   \n",
       "5                                 Ministry/State Name   \n",
       "6                                     Department Name   \n",
       "7                                   Organisation Name   \n",
       "8                                         Office Name   \n",
       "9                                      Total Quantity   \n",
       "10                                      Item Category   \n",
       "11                     Bidder Turnover (Last 3 Years)   \n",
       "12                OEM Average Turnover (Last 3 Years)   \n",
       "13                                Experience Criteria   \n",
       "14  MSE Exemption for Years of Experience and\\nTur...   \n",
       "15  Startup Exemption for Years of Experience and\\...   \n",
       "16                      Document required from seller   \n",
       "17                                   Past Performance   \n",
       "18                                  Bid to RA enabled   \n",
       "19                           Primary product category   \n",
       "20                                Inspection Required   \n",
       "21                                Estimated Bid Value   \n",
       "\n",
       "                                                    1  \n",
       "0                                                      \n",
       "1                                 14-12-2020 19:00:00  \n",
       "2                                 14-12-2020 19:30:00  \n",
       "3                                           90 (Days)  \n",
       "4                                           60 (Days)  \n",
       "5                          Ministry Of Civil Aviation  \n",
       "6                   Airports Authority Of India (aai)  \n",
       "7                         Airports Authority Of India  \n",
       "8         Airports Authority Of India Chennai Airport  \n",
       "9                                                  21  \n",
       "10                                      All in One PC  \n",
       "11                                         9 Lakh (s)  \n",
       "12                                        72 Lakh (s)  \n",
       "13                                         3 Year (s)  \n",
       "14                                                 No  \n",
       "15                                                 No  \n",
       "16  Experience Criteria,Past Performance,Bidder Tu...  \n",
       "17                                               80 %  \n",
       "18                                                Yes  \n",
       "19                                      All in One PC  \n",
       "20                                                 No  \n",
       "21                                            1823380  "
      ]
     },
     "execution_count": 4,
     "metadata": {},
     "output_type": "execute_result"
    }
   ],
   "source": [
    "page1 = data[0].df\n",
    "page1"
   ]
  },
  {
   "cell_type": "code",
   "execution_count": 5,
   "metadata": {},
   "outputs": [
    {
     "data": {
      "text/html": [
       "<div>\n",
       "<style scoped>\n",
       "    .dataframe tbody tr th:only-of-type {\n",
       "        vertical-align: middle;\n",
       "    }\n",
       "\n",
       "    .dataframe tbody tr th {\n",
       "        vertical-align: top;\n",
       "    }\n",
       "\n",
       "    .dataframe thead th {\n",
       "        text-align: right;\n",
       "    }\n",
       "</style>\n",
       "<table border=\"1\" class=\"dataframe\">\n",
       "  <thead>\n",
       "    <tr style=\"text-align: right;\">\n",
       "      <th></th>\n",
       "      <th>0</th>\n",
       "      <th>1</th>\n",
       "    </tr>\n",
       "  </thead>\n",
       "  <tbody>\n",
       "    <tr>\n",
       "      <th>21</th>\n",
       "      <td>Estimated Bid Value</td>\n",
       "      <td>1823380</td>\n",
       "    </tr>\n",
       "  </tbody>\n",
       "</table>\n",
       "</div>"
      ],
      "text/plain": [
       "                      0        1\n",
       "21  Estimated Bid Value  1823380"
      ]
     },
     "execution_count": 5,
     "metadata": {},
     "output_type": "execute_result"
    }
   ],
   "source": [
    "emd = page1[page1[0].str.contains(\"Estimated Bid Value\")]\n",
    "emd"
   ]
  },
  {
   "cell_type": "code",
   "execution_count": 6,
   "metadata": {},
   "outputs": [
    {
     "data": {
      "text/plain": [
       "True"
      ]
     },
     "execution_count": 6,
     "metadata": {},
     "output_type": "execute_result"
    }
   ],
   "source": [
    "#To find weather estimated bid value exits or not\n",
    "(emd[0] == 'Estimated Bid Value').any()"
   ]
  },
  {
   "cell_type": "code",
   "execution_count": 7,
   "metadata": {},
   "outputs": [
    {
     "data": {
      "text/plain": [
       "1823380"
      ]
     },
     "execution_count": 7,
     "metadata": {},
     "output_type": "execute_result"
    }
   ],
   "source": [
    "value = float(emd[1])\n",
    "value = int(value)\n",
    "value"
   ]
  },
  {
   "cell_type": "code",
   "execution_count": null,
   "metadata": {},
   "outputs": [],
   "source": []
  }
 ],
 "metadata": {
  "kernelspec": {
   "display_name": "Python 3",
   "language": "python",
   "name": "python3"
  },
  "language_info": {
   "codemirror_mode": {
    "name": "ipython",
    "version": 3
   },
   "file_extension": ".py",
   "mimetype": "text/x-python",
   "name": "python",
   "nbconvert_exporter": "python",
   "pygments_lexer": "ipython3",
   "version": "3.8.3"
  }
 },
 "nbformat": 4,
 "nbformat_minor": 4
}
